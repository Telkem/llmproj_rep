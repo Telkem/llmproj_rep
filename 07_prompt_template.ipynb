{
 "cells": [
  {
   "cell_type": "markdown",
   "id": "0795b165",
   "metadata": {},
   "source": [
    "# prompt template"
   ]
  },
  {
   "cell_type": "code",
   "execution_count": 1,
   "id": "8579c277",
   "metadata": {},
   "outputs": [],
   "source": [
    "from langchain_openai import ChatOpenAI\n",
    "llm = ChatOpenAI(model='gpt-4o-mini')"
   ]
  },
  {
   "cell_type": "code",
   "execution_count": 4,
   "id": "70f15534",
   "metadata": {},
   "outputs": [
    {
     "data": {
      "text/plain": [
       "'광주에서 유명한 맛집을 알려주세요.'"
      ]
     },
     "execution_count": 4,
     "metadata": {},
     "output_type": "execute_result"
    }
   ],
   "source": [
    "from langchain.prompts import PromptTemplate\n",
    "template = PromptTemplate.from_template(\"{city}에서 {adj} {topic}을 알려주세요.\")\n",
    "prompt = template.format(city = '광주', adj= '유명한', topic='맛집')\n",
    "prompt"
   ]
  },
  {
   "cell_type": "code",
   "execution_count": 5,
   "id": "2e9d3ce3",
   "metadata": {},
   "outputs": [
    {
     "data": {
      "text/plain": [
       "AIMessage(content='광주는 다양한 맛집이 많은 지역입니다. 몇 가지 추천해 드릴게요:\\n\\n1. **송정떡갈비** - 유명한 떡갈비 맛집으로, 풍부한 맛과 부드러운 식감이 특징입니다.\\n\\n2. **광주 닭발** - 매콤한 양념이 곁들여진 닭발이 인기 있는 곳으로, 술안주로 좋습니다.\\n\\n3. **광주 감자탕** - 진한 육수와 푸짐한 고기가 특징인 감자탕 전문점입니다.\\n\\n4. **남양주찜닭** - 간장 소스를 베이스로 한 찜닭이 유명하며, 다양한 선지와 곁들여 먹을 수 있습니다.\\n\\n5. **우동 고시** - 일본식 우동 전문점으로, 쫄깃한 면발과 국물 맛이 일품입니다.\\n\\n광주는 또한 지역 특산물이나 전통 음식을 즐길 수 있는 곳이 많으니, 다양한 메뉴를 시도해 보시는 것도 좋습니다!', additional_kwargs={'refusal': None}, response_metadata={'token_usage': {'completion_tokens': 232, 'prompt_tokens': 18, 'total_tokens': 250, 'completion_tokens_details': {'accepted_prediction_tokens': 0, 'audio_tokens': 0, 'reasoning_tokens': 0, 'rejected_prediction_tokens': 0}, 'prompt_tokens_details': {'audio_tokens': 0, 'cached_tokens': 0}}, 'model_name': 'gpt-4o-mini-2024-07-18', 'system_fingerprint': 'fp_8bda4d3a2c', 'id': 'chatcmpl-CDLupBtPS8CahpOEp9SNhS1y6xKWs', 'service_tier': 'default', 'finish_reason': 'stop', 'logprobs': None}, id='run--9eec485f-ea50-4b6b-a0a7-cc8b6a1b2c42-0', usage_metadata={'input_tokens': 18, 'output_tokens': 232, 'total_tokens': 250, 'input_token_details': {'audio': 0, 'cache_read': 0}, 'output_token_details': {'audio': 0, 'reasoning': 0}})"
      ]
     },
     "execution_count": 5,
     "metadata": {},
     "output_type": "execute_result"
    }
   ],
   "source": [
    "response = llm.invoke(prompt)\n",
    "response"
   ]
  },
  {
   "cell_type": "code",
   "execution_count": 6,
   "id": "5463c410",
   "metadata": {},
   "outputs": [
    {
     "data": {
      "text/plain": [
       "'광주는 다양한 맛집이 많은 지역입니다. 몇 가지 추천해 드릴게요:\\n\\n1. **송정떡갈비** - 유명한 떡갈비 맛집으로, 풍부한 맛과 부드러운 식감이 특징입니다.\\n\\n2. **광주 닭발** - 매콤한 양념이 곁들여진 닭발이 인기 있는 곳으로, 술안주로 좋습니다.\\n\\n3. **광주 감자탕** - 진한 육수와 푸짐한 고기가 특징인 감자탕 전문점입니다.\\n\\n4. **남양주찜닭** - 간장 소스를 베이스로 한 찜닭이 유명하며, 다양한 선지와 곁들여 먹을 수 있습니다.\\n\\n5. **우동 고시** - 일본식 우동 전문점으로, 쫄깃한 면발과 국물 맛이 일품입니다.\\n\\n광주는 또한 지역 특산물이나 전통 음식을 즐길 수 있는 곳이 많으니, 다양한 메뉴를 시도해 보시는 것도 좋습니다!'"
      ]
     },
     "execution_count": 6,
     "metadata": {},
     "output_type": "execute_result"
    }
   ],
   "source": [
    "response.content"
   ]
  },
  {
   "cell_type": "markdown",
   "id": "459d37d0",
   "metadata": {},
   "source": [
    "# template save"
   ]
  },
  {
   "cell_type": "code",
   "execution_count": 7,
   "id": "ac32f810",
   "metadata": {},
   "outputs": [],
   "source": [
    "template.save('restaurant_tour_prompt.json')"
   ]
  },
  {
   "cell_type": "code",
   "execution_count": 9,
   "id": "39705f90",
   "metadata": {},
   "outputs": [
    {
     "data": {
      "text/plain": [
       "'부산에서 가장 멋진 문화재을 알려주세요.'"
      ]
     },
     "execution_count": 9,
     "metadata": {},
     "output_type": "execute_result"
    }
   ],
   "source": [
    "from langchain.prompts import load_prompt\n",
    "temp_load = load_prompt('restaurant_tour_prompt.json')\n",
    "prompt = temp_load.format(city='부산', adj='가장 멋진', topic='문화재')\n",
    "prompt"
   ]
  },
  {
   "cell_type": "markdown",
   "id": "cdcdb004",
   "metadata": {},
   "source": [
    "# ChatPromptTemplate"
   ]
  },
  {
   "cell_type": "code",
   "execution_count": 10,
   "id": "63c96093",
   "metadata": {},
   "outputs": [
    {
     "data": {
      "text/plain": [
       "ChatPromptTemplate(input_variables=['place', 'question', 'travel', 'when'], input_types={}, partial_variables={}, messages=[SystemMessagePromptTemplate(prompt=PromptTemplate(input_variables=[], input_types={}, partial_variables={}, template='당신은 베테랑 여행 가이드입니다. 고객 맞춤 여행일정 수립을 도와드립니다.'), additional_kwargs={}), HumanMessagePromptTemplate(prompt=PromptTemplate(input_variables=['place', 'travel', 'when'], input_types={}, partial_variables={}, template='{when}에 {place}로 {travel}을 계획중입니다.'), additional_kwargs={}), AIMessagePromptTemplate(prompt=PromptTemplate(input_variables=['place'], input_types={}, partial_variables={}, template='제가 {place}의 전문여행가이드입니다. 어떤 도움이 필요하세요?'), additional_kwargs={}), HumanMessagePromptTemplate(prompt=PromptTemplate(input_variables=['question'], input_types={}, partial_variables={}, template='{question}'), additional_kwargs={})])"
      ]
     },
     "execution_count": 10,
     "metadata": {},
     "output_type": "execute_result"
    }
   ],
   "source": [
    "from langchain.prompts import ChatPromptTemplate\n",
    "chat_template = ChatPromptTemplate.from_messages(\n",
    "    [\n",
    "        ('system', '당신은 베테랑 여행 가이드입니다. 고객 맞춤 여행일정 수립을 도와드립니다.'),\n",
    "        ('human', '{when}에 {place}로 {travel}을 계획중입니다.'),\n",
    "        ('ai', '제가 {place}의 전문여행가이드입니다. 어떤 도움이 필요하세요?'),\n",
    "        ('human', '{question}')\n",
    "    ]\n",
    ")\n",
    "chat_template"
   ]
  },
  {
   "cell_type": "code",
   "execution_count": 12,
   "id": "a4b9f448",
   "metadata": {},
   "outputs": [
    {
     "data": {
      "text/plain": [
       "[SystemMessage(content='당신은 베테랑 여행 가이드입니다. 고객 맞춤 여행일정 수립을 도와드립니다.', additional_kwargs={}, response_metadata={}),\n",
       " HumanMessage(content='가을에 일본로 식도락여행을 계획중입니다.', additional_kwargs={}, response_metadata={}),\n",
       " AIMessage(content='제가 일본의 전문여행가이드입니다. 어떤 도움이 필요하세요?', additional_kwargs={}, response_metadata={}),\n",
       " HumanMessage(content='맛집 3곳 추천해주세요', additional_kwargs={}, response_metadata={})]"
      ]
     },
     "execution_count": 12,
     "metadata": {},
     "output_type": "execute_result"
    }
   ],
   "source": [
    "final_prompt = chat_template.format_messages(when='가을', place='일본', travel='식도락여행', question='맛집 3곳 추천해주세요')\n",
    "final_prompt"
   ]
  },
  {
   "cell_type": "code",
   "execution_count": null,
   "id": "acd0ced2",
   "metadata": {},
   "outputs": [],
   "source": [
    "final_response = llm.invoke(final_prompt)"
   ]
  },
  {
   "cell_type": "code",
   "execution_count": 14,
   "id": "f3daa595",
   "metadata": {},
   "outputs": [
    {
     "data": {
      "text/plain": [
       "'가을에 일본에서의 식도락 여행이라면, 특히 제철 재료를 활용한 맛집을 찾아가는 것이 좋습니다. 여기 세 곳의 추천 맛집을 소개합니다:\\n\\n1. **교토 - 기온 유바카리 (祇園 ゆばかり)**\\n   - **추천 메뉴**: 유바 (두부피) 요리\\n   - **특징**: 고유의 전통을 간직한 기온 지역에서, 섬세하고 신선한 유바 요리를 제공합니다. 가을에는 특히 담백한 유바와 지역 특산물인 단풍나무 단감 요리도 즐길 수 있습니다.\\n\\n2. **오사카 - 도톤보리의 쿠시카츠 다루마 (串カツ田中)**\\n   - **추천 메뉴**: 쿠시카츠 (꼬치튀김)\\n   - **특징**: 오사카의 대표적인 길거리 음식인 쿠시카츠를 맛볼 수 있는 곳으로, 다양한 재료를 꼬치에 꿰어 튀긴 요리를 제공합니다. 가을에는 제철 고구마와 버섯을 이용한 메뉴를 추천합니다.\\n\\n3. **후쿠오카 - 이치란 라멘 (一蘭ラーメン)**\\n   - **추천 메뉴**: 돈코츠 라멘\\n   - **특징**: 후쿠오카의 대표적인 돈코츠 라멘 전문점으로, 깊고 진한 국물 맛이 특징입니다. 가을밤에 따뜻한 라멘으로 힐링할 수 있는 완벽한 장소입니다.\\n\\n이 외에도 많은 맛집이 있으니 가는 지역에 맞춰 다양한 음식을 경험해 보길 추천드립니다. 여행을 계획하면서 추가적인 정보가 필요하시면 언제든지 말씀해 주세요!'"
      ]
     },
     "execution_count": 14,
     "metadata": {},
     "output_type": "execute_result"
    }
   ],
   "source": [
    "final_response.content"
   ]
  },
  {
   "cell_type": "code",
   "execution_count": 18,
   "id": "a8edd37c",
   "metadata": {},
   "outputs": [
    {
     "data": {
      "text/plain": [
       "'당신은 동남아 베테랑 여행 가이드입니다. 고객 맞춤 여행일정 수립을 도와드립니다.12월에 가족여행을 계획중입니다.'"
      ]
     },
     "execution_count": 18,
     "metadata": {},
     "output_type": "execute_result"
    }
   ],
   "source": [
    "prmpt_1 = PromptTemplate.from_template('당신은 {place} 베테랑 여행 가이드입니다. 고객 맞춤 여행일정 수립을 도와드립니다.')\n",
    "prmpt_2 = PromptTemplate.from_template('{when}에 {travel}을 계획중입니다.')\n",
    "\n",
    "concat_prompt = prmpt_1 + prmpt_2\n",
    "concat_prompt.format(place='동남아', travel='가족여행', when='12월')"
   ]
  }
 ],
 "metadata": {
  "kernelspec": {
   "display_name": "prompting_env",
   "language": "python",
   "name": "python3"
  },
  "language_info": {
   "codemirror_mode": {
    "name": "ipython",
    "version": 3
   },
   "file_extension": ".py",
   "mimetype": "text/x-python",
   "name": "python",
   "nbconvert_exporter": "python",
   "pygments_lexer": "ipython3",
   "version": "3.12.11"
  }
 },
 "nbformat": 4,
 "nbformat_minor": 5
}
