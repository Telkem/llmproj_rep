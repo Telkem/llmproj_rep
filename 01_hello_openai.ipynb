{
 "cells": [
  {
   "cell_type": "code",
   "execution_count": 1,
   "id": "1051e3a0",
   "metadata": {},
   "outputs": [
    {
     "name": "stdout",
     "output_type": "stream",
     "text": [
      "API Key configured: True\n"
     ]
    }
   ],
   "source": [
    "from dotenv import load_dotenv\n",
    "import os\n",
    "\n",
    "load_dotenv()\n",
    "\n",
    "openai_api_key = os.getenv(\"OPENAI_API_KEY\")\n",
    "\n",
    "if openai_api_key:\n",
    "    os.environ[\"OPENAI_API_KEY\"] = openai_api_key\n",
    "    \n",
    "print(\"API Key configured:\", \"OPENAI_API_KEY\" in os.environ)"
   ]
  },
  {
   "cell_type": "code",
   "execution_count": 2,
   "id": "73b30343",
   "metadata": {},
   "outputs": [
    {
     "data": {
      "text/plain": [
       "'1.100.2'"
      ]
     },
     "execution_count": 2,
     "metadata": {},
     "output_type": "execute_result"
    }
   ],
   "source": [
    "import openai\n",
    "openai.__version__"
   ]
  },
  {
   "cell_type": "code",
   "execution_count": 5,
   "id": "05a31607",
   "metadata": {},
   "outputs": [],
   "source": [
    "from openai import OpenAI\n",
    "client = OpenAI()\n",
    "\n",
    "response = client.responses.create(\n",
    "  model=\"gpt-4o-mini\",\n",
    "  input=[\n",
    "    {\n",
    "      \"role\": \"system\",\n",
    "      \"content\": [\n",
    "        {\n",
    "          \"type\": \"input_text\",\n",
    "          \"text\": \"응답을 할때 세부항목으로 정리해서 응답해줘\"\n",
    "        }\n",
    "      ]\n",
    "    },\n",
    "    {\n",
    "      \"role\": \"user\",\n",
    "      \"content\": [\n",
    "        {\n",
    "          \"type\": \"input_text\",\n",
    "          \"text\": \"게임\"\n",
    "        }\n",
    "      ]\n",
    "    },\n",
    "    {\n",
    "      \"id\": \"msg_68a7c6fa51048194999b6a48cdb7b6720f9f8d3b4eedfac7\",\n",
    "      \"role\": \"assistant\",\n",
    "      \"content\": [\n",
    "        {\n",
    "          \"type\": \"output_text\",\n",
    "          \"text\": \"어떤 종류의 게임에 대해 알고 싶으신가요? 아래의 세부항목으로 정리해드릴게요.\\n\\n### 1. 게임 종류\\n- **비디오 게임**\\n  - 액션\\n  - 롤플레잉\\n  - 시뮬레이션\\n  - 스포츠\\n- **보드 게임**\\n  - 전략\\n  - 협동\\n  - 카드 게임\\n\\n### 2. 인기 게임\\n- **비디오 게임**\\n  - 리그 오브 레전드\\n  - 포트나이트\\n  - 마인크래프트\\n- **보드 게임**\\n  - 카탄의 개척자들\\n  - 도미니언\\n  - 팬데믹\\n\\n### 3. 게임 플랫폼\\n- **콘솔**\\n  - PS5\\n  - Xbox Series X\\n- **PC**\\n  - 스팀\\n  - 에픽게임즈\\n- **모바일**\\n  - iOS\\n  - 안드로이드\\n\\n### 4. 게임 관련 문화\\n- **e스포츠**\\n- **게임 스트리밍**\\n- **게임 개발**\\n\\n어떤 항목에 대해 더 알고 싶으신가요?\"\n",
    "        }\n",
    "      ]\n",
    "    }\n",
    "  ],\n",
    "  text={\n",
    "    \"format\": {\n",
    "      \"type\": \"text\"\n",
    "    }\n",
    "  },\n",
    "  reasoning={},\n",
    "  tools=[],\n",
    "  temperature=1,\n",
    "  max_output_tokens=10000,\n",
    "  top_p=1,\n",
    "  store=True\n",
    ")"
   ]
  },
  {
   "cell_type": "code",
   "execution_count": 6,
   "id": "479038d7",
   "metadata": {},
   "outputs": [
    {
     "data": {
      "text/plain": [
       "Response(id='resp_68a7c707e59c8194aeac88c580b5c8040f9f8d3b4eedfac7', created_at=1755825928.0, error=None, incomplete_details=None, instructions=None, metadata={}, model='gpt-4o-mini-2024-07-18', object='response', output=[ResponseOutputMessage(id='msg_68a7c708ab308194bcbadb0d998caed40f9f8d3b4eedfac7', content=[ResponseOutputText(annotations=[], text='어떤 종류의 게임에 대해 알고 싶으신가요? 아래의 세부항목으로 정리해드릴게요.\\n\\n### 1. 게임 종류\\n- **비디오 게임**\\n  - 액션\\n  - 롤플레잉\\n  - 시뮬레이션\\n  - 스포츠\\n- **보드 게임**\\n  - 전략\\n  - 협동\\n  - 카드 게임\\n\\n### 2. 인기 게임\\n- **비디오 게임**\\n  - 리그 오브 레전드\\n  - 포트나이트\\n  - 마인크래프트\\n- **보드 게임**\\n  - 카탄의 개척자들\\n  - 도미니언\\n  - 팬데믹\\n\\n### 3. 게임 플랫폼\\n- **콘솔**\\n  - PS5\\n  - Xbox Series X\\n- **PC**\\n  - 스팀\\n  - 에픽게임즈\\n- **모바일**\\n  - iOS\\n  - 안드로이드\\n\\n### 4. 게임 관련 문화\\n- **e스포츠**\\n- **게임 스트리밍**\\n- **게임 개발**\\n\\n어떤 항목에 대해 더 알고 싶으신가요?', type='output_text', logprobs=[])], role='assistant', status='completed', type='message')], parallel_tool_calls=True, temperature=1.0, tool_choice='auto', tools=[], top_p=1.0, background=False, max_output_tokens=10000, max_tool_calls=None, previous_response_id=None, prompt=None, prompt_cache_key=None, reasoning=Reasoning(effort=None, generate_summary=None, summary=None), safety_identifier=None, service_tier='default', status='completed', text=ResponseTextConfig(format=ResponseFormatText(type='text'), verbosity='medium'), top_logprobs=0, truncation='disabled', usage=ResponseUsage(input_tokens=286, input_tokens_details=InputTokensDetails(cached_tokens=0), output_tokens=254, output_tokens_details=OutputTokensDetails(reasoning_tokens=0), total_tokens=540), user=None, store=True)"
      ]
     },
     "execution_count": 6,
     "metadata": {},
     "output_type": "execute_result"
    }
   ],
   "source": [
    "response"
   ]
  },
  {
   "cell_type": "code",
   "execution_count": 7,
   "id": "f6d11c33",
   "metadata": {},
   "outputs": [
    {
     "data": {
      "text/plain": [
       "'어떤 종류의 게임에 대해 알고 싶으신가요? 아래의 세부항목으로 정리해드릴게요.\\n\\n### 1. 게임 종류\\n- **비디오 게임**\\n  - 액션\\n  - 롤플레잉\\n  - 시뮬레이션\\n  - 스포츠\\n- **보드 게임**\\n  - 전략\\n  - 협동\\n  - 카드 게임\\n\\n### 2. 인기 게임\\n- **비디오 게임**\\n  - 리그 오브 레전드\\n  - 포트나이트\\n  - 마인크래프트\\n- **보드 게임**\\n  - 카탄의 개척자들\\n  - 도미니언\\n  - 팬데믹\\n\\n### 3. 게임 플랫폼\\n- **콘솔**\\n  - PS5\\n  - Xbox Series X\\n- **PC**\\n  - 스팀\\n  - 에픽게임즈\\n- **모바일**\\n  - iOS\\n  - 안드로이드\\n\\n### 4. 게임 관련 문화\\n- **e스포츠**\\n- **게임 스트리밍**\\n- **게임 개발**\\n\\n어떤 항목에 대해 더 알고 싶으신가요?'"
      ]
     },
     "execution_count": 7,
     "metadata": {},
     "output_type": "execute_result"
    }
   ],
   "source": [
    "response.output[0].content[0].text"
   ]
  },
  {
   "cell_type": "markdown",
   "id": "63d2fead",
   "metadata": {},
   "source": [
    "# chat completion api"
   ]
  },
  {
   "cell_type": "code",
   "execution_count": 8,
   "id": "51553224",
   "metadata": {},
   "outputs": [],
   "source": [
    "from openai import OpenAI\n",
    "client = OpenAI()\n",
    "\n",
    "response = client.chat.completions.create(\n",
    "  model=\"gpt-4o-mini\",\n",
    "  messages=[\n",
    "    {\n",
    "      \"role\": \"system\",\n",
    "      \"content\": [\n",
    "        {\n",
    "          \"type\": \"text\",\n",
    "          \"text\": \"응답을 할때 세부항목으로 정리해서 응답해줘\"\n",
    "        }\n",
    "      ]\n",
    "    },\n",
    "    {\n",
    "      \"role\": \"user\",\n",
    "      \"content\": [\n",
    "        {\n",
    "          \"type\": \"text\",\n",
    "          \"text\": \"게임\"\n",
    "        }\n",
    "      ]\n",
    "    },\n",
    "    {\n",
    "      \"role\": \"assistant\",\n",
    "      \"content\": [\n",
    "        {\n",
    "          \"type\": \"text\",\n",
    "          \"text\": \"어떤 종류의 게임에 대해 알고 싶으신가요? 아래의 세부항목으로 정리해드릴게요.\\n\\n### 1. 게임 종류\\n- **비디오 게임**\\n  - 액션\\n  - 롤플레잉\\n  - 시뮬레이션\\n  - 스포츠\\n- **보드 게임**\\n  - 전략\\n  - 협동\\n  - 카드 게임\\n\\n### 2. 인기 게임\\n- **비디오 게임**\\n  - 리그 오브 레전드\\n  - 포트나이트\\n  - 마인크래프트\\n- **보드 게임**\\n  - 카탄의 개척자들\\n  - 도미니언\\n  - 팬데믹\\n\\n### 3. 게임 플랫폼\\n- **콘솔**\\n  - PS5\\n  - Xbox Series X\\n- **PC**\\n  - 스팀\\n  - 에픽게임즈\\n- **모바일**\\n  - iOS\\n  - 안드로이드\\n\\n### 4. 게임 관련 문화\\n- **e스포츠**\\n- **게임 스트리밍**\\n- **게임 개발**\\n\\n어떤 항목에 대해 더 알고 싶으신가요?\"\n",
    "        }\n",
    "      ]\n",
    "    }\n",
    "  ],\n",
    "  response_format={\n",
    "    \"type\": \"text\"\n",
    "  },\n",
    "  temperature=1,\n",
    "  max_completion_tokens=10000,\n",
    "  top_p=1,\n",
    "  frequency_penalty=0,\n",
    "  presence_penalty=0\n",
    ")"
   ]
  },
  {
   "cell_type": "code",
   "execution_count": 11,
   "id": "2f5eba67",
   "metadata": {},
   "outputs": [
    {
     "data": {
      "text/plain": [
       "'어떤 종류의 게임에 대해 알고 싶으신가요? 아래의 세부항목으로 정리해드릴게요.\\n\\n### 1. 게임 종류\\n- **비디오 게임**\\n  - 액션\\n  - 롤플레잉\\n  - 시뮬레이션\\n  - 스포츠\\n- **보드 게임**\\n  - 전략\\n  - 협동\\n  - 카드 게임\\n\\n### 2. 인기 게임\\n- **비디오 게임**\\n  - 리그 오브 레전드\\n  - 포트나이트\\n  - 마인크래프트\\n- **보드 게임**\\n  - 카탄의 개척자들\\n  - 도미니언\\n  - 팬데믹\\n\\n### 3. 게임 플랫폼\\n- **콘솔**\\n  - PS5\\n  - Xbox Series X\\n- **PC**\\n  - 스팀\\n  - 에픽게임즈\\n- **모바일**\\n  - iOS\\n  - 안드로이드\\n\\n### 4. 게임 관련 문화\\n- **e스포츠**\\n- **게임 스트리밍**\\n- **게임 개발**\\n\\n어떤 항목에 대해 더 알고 싶으신가요?'"
      ]
     },
     "execution_count": 11,
     "metadata": {},
     "output_type": "execute_result"
    }
   ],
   "source": [
    "response.choices[0].message.content"
   ]
  }
 ],
 "metadata": {
  "kernelspec": {
   "display_name": "prompting_env",
   "language": "python",
   "name": "python3"
  },
  "language_info": {
   "codemirror_mode": {
    "name": "ipython",
    "version": 3
   },
   "file_extension": ".py",
   "mimetype": "text/x-python",
   "name": "python",
   "nbconvert_exporter": "python",
   "pygments_lexer": "ipython3",
   "version": "3.12.11"
  }
 },
 "nbformat": 4,
 "nbformat_minor": 5
}
