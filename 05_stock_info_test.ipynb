{
 "cells": [
  {
   "cell_type": "code",
   "execution_count": 1,
   "id": "e5b5f51b",
   "metadata": {},
   "outputs": [],
   "source": [
    "import yfinance as yf"
   ]
  },
  {
   "cell_type": "code",
   "execution_count": 2,
   "id": "26f56a43",
   "metadata": {},
   "outputs": [
    {
     "data": {
      "text/plain": [
       "yfinance.Ticker object <MSFT>"
      ]
     },
     "execution_count": 2,
     "metadata": {},
     "output_type": "execute_result"
    }
   ],
   "source": [
    "tiker = 'MSFT' #symbol\n",
    "msft = yf.Ticker(tiker)\n",
    "msft"
   ]
  },
  {
   "cell_type": "code",
   "execution_count": 3,
   "id": "79d39d88",
   "metadata": {},
   "outputs": [],
   "source": [
    "#프롬프팅 결과 주가정보서비스 추천 정보\n",
    "basic_info = { \n",
    "'회사명' : msft.info.get('longName'),\n",
    "'산업' : msft.info.get('industry'),\n",
    "'부문' : msft.info.get('sector'),\n",
    "'시가총액' : msft.info.get('marketCap'),\n",
    "'총 발행주식수' : msft.info.get('shareOutstanding'),\n",
    "'본사 위치' : msft.info.get('country'),\n",
    "'CEO' : msft.info.get('ceo'),\n",
    "'웹사이트' : msft.info.get('website')\n",
    "}"
   ]
  },
  {
   "cell_type": "code",
   "execution_count": null,
   "id": "8cae1346",
   "metadata": {},
   "outputs": [
    {
     "name": "stdout",
     "output_type": "stream",
     "text": [
      "회사명 : Microsoft Corporation\n",
      "산업 : Software - Infrastructure\n",
      "부문 : Technology\n",
      "시가총액 : 3748101619712\n",
      "총 발행주식수 : None\n",
      "본사 위치 : United States\n",
      "CEO : None\n",
      "웹사이트 : https://www.microsoft.com\n"
     ]
    }
   ],
   "source": [
    "#기본 정보 출력\n",
    "for key, value in basic_info.items():\n",
    "    print(f'{key} : {value}')"
   ]
  },
  {
   "cell_type": "code",
   "execution_count": 6,
   "id": "5eb8f1f0",
   "metadata": {},
   "outputs": [],
   "source": [
    "#재무재표 정보 가져오기\n",
    "income_statement = msft.financials #손익계산서\n",
    "balance_statement = msft.balance_sheet #대차대조표\n",
    "cashflow_statement = msft.cashflow #현금흐름표"
   ]
  },
  {
   "cell_type": "code",
   "execution_count": 8,
   "id": "bb6fd5d0",
   "metadata": {},
   "outputs": [
    {
     "data": {
      "text/html": [
       "<div>\n",
       "<style scoped>\n",
       "    .dataframe tbody tr th:only-of-type {\n",
       "        vertical-align: middle;\n",
       "    }\n",
       "\n",
       "    .dataframe tbody tr th {\n",
       "        vertical-align: top;\n",
       "    }\n",
       "\n",
       "    .dataframe thead th {\n",
       "        text-align: right;\n",
       "    }\n",
       "</style>\n",
       "<table border=\"1\" class=\"dataframe\">\n",
       "  <thead>\n",
       "    <tr style=\"text-align: right;\">\n",
       "      <th></th>\n",
       "      <th>2025-06-30</th>\n",
       "      <th>2024-06-30</th>\n",
       "      <th>2023-06-30</th>\n",
       "      <th>2022-06-30</th>\n",
       "    </tr>\n",
       "  </thead>\n",
       "  <tbody>\n",
       "    <tr>\n",
       "      <th>Tax Effect Of Unusual Items</th>\n",
       "      <td>-7.721784e+07</td>\n",
       "      <td>-1.000900e+08</td>\n",
       "      <td>-2.850000e+06</td>\n",
       "      <td>4.375400e+07</td>\n",
       "    </tr>\n",
       "    <tr>\n",
       "      <th>Tax Rate For Calcs</th>\n",
       "      <td>1.762960e-01</td>\n",
       "      <td>1.823130e-01</td>\n",
       "      <td>1.900000e-01</td>\n",
       "      <td>1.310000e-01</td>\n",
       "    </tr>\n",
       "    <tr>\n",
       "      <th>Normalized EBITDA</th>\n",
       "      <td>1.606030e+11</td>\n",
       "      <td>1.335580e+11</td>\n",
       "      <td>1.051550e+11</td>\n",
       "      <td>9.990500e+10</td>\n",
       "    </tr>\n",
       "  </tbody>\n",
       "</table>\n",
       "</div>"
      ],
      "text/plain": [
       "                               2025-06-30    2024-06-30    2023-06-30  \\\n",
       "Tax Effect Of Unusual Items -7.721784e+07 -1.000900e+08 -2.850000e+06   \n",
       "Tax Rate For Calcs           1.762960e-01  1.823130e-01  1.900000e-01   \n",
       "Normalized EBITDA            1.606030e+11  1.335580e+11  1.051550e+11   \n",
       "\n",
       "                               2022-06-30  \n",
       "Tax Effect Of Unusual Items  4.375400e+07  \n",
       "Tax Rate For Calcs           1.310000e-01  \n",
       "Normalized EBITDA            9.990500e+10  "
      ]
     },
     "execution_count": 8,
     "metadata": {},
     "output_type": "execute_result"
    }
   ],
   "source": [
    "income_statement.head(3)"
   ]
  },
  {
   "cell_type": "code",
   "execution_count": 9,
   "id": "864c999e",
   "metadata": {},
   "outputs": [
    {
     "data": {
      "text/html": [
       "<div>\n",
       "<style scoped>\n",
       "    .dataframe tbody tr th:only-of-type {\n",
       "        vertical-align: middle;\n",
       "    }\n",
       "\n",
       "    .dataframe tbody tr th {\n",
       "        vertical-align: top;\n",
       "    }\n",
       "\n",
       "    .dataframe thead th {\n",
       "        text-align: right;\n",
       "    }\n",
       "</style>\n",
       "<table border=\"1\" class=\"dataframe\">\n",
       "  <thead>\n",
       "    <tr style=\"text-align: right;\">\n",
       "      <th></th>\n",
       "      <th>2025-06-30</th>\n",
       "      <th>2024-06-30</th>\n",
       "      <th>2023-06-30</th>\n",
       "      <th>2022-06-30</th>\n",
       "      <th>2021-06-30</th>\n",
       "    </tr>\n",
       "  </thead>\n",
       "  <tbody>\n",
       "    <tr>\n",
       "      <th>Ordinary Shares Number</th>\n",
       "      <td>7.434000e+09</td>\n",
       "      <td>7.434139e+09</td>\n",
       "      <td>7.432000e+09</td>\n",
       "      <td>7.464000e+09</td>\n",
       "      <td>NaN</td>\n",
       "    </tr>\n",
       "    <tr>\n",
       "      <th>Share Issued</th>\n",
       "      <td>7.434000e+09</td>\n",
       "      <td>7.434139e+09</td>\n",
       "      <td>7.432000e+09</td>\n",
       "      <td>7.464000e+09</td>\n",
       "      <td>NaN</td>\n",
       "    </tr>\n",
       "    <tr>\n",
       "      <th>Net Debt</th>\n",
       "      <td>1.290900e+10</td>\n",
       "      <td>3.331500e+10</td>\n",
       "      <td>1.253300e+10</td>\n",
       "      <td>3.585000e+10</td>\n",
       "      <td>NaN</td>\n",
       "    </tr>\n",
       "  </tbody>\n",
       "</table>\n",
       "</div>"
      ],
      "text/plain": [
       "                          2025-06-30    2024-06-30    2023-06-30  \\\n",
       "Ordinary Shares Number  7.434000e+09  7.434139e+09  7.432000e+09   \n",
       "Share Issued            7.434000e+09  7.434139e+09  7.432000e+09   \n",
       "Net Debt                1.290900e+10  3.331500e+10  1.253300e+10   \n",
       "\n",
       "                          2022-06-30  2021-06-30  \n",
       "Ordinary Shares Number  7.464000e+09         NaN  \n",
       "Share Issued            7.464000e+09         NaN  \n",
       "Net Debt                3.585000e+10         NaN  "
      ]
     },
     "execution_count": 9,
     "metadata": {},
     "output_type": "execute_result"
    }
   ],
   "source": [
    "balance_statement.head(3)"
   ]
  },
  {
   "cell_type": "code",
   "execution_count": 10,
   "id": "a8d39fca",
   "metadata": {},
   "outputs": [
    {
     "data": {
      "text/html": [
       "<div>\n",
       "<style scoped>\n",
       "    .dataframe tbody tr th:only-of-type {\n",
       "        vertical-align: middle;\n",
       "    }\n",
       "\n",
       "    .dataframe tbody tr th {\n",
       "        vertical-align: top;\n",
       "    }\n",
       "\n",
       "    .dataframe thead th {\n",
       "        text-align: right;\n",
       "    }\n",
       "</style>\n",
       "<table border=\"1\" class=\"dataframe\">\n",
       "  <thead>\n",
       "    <tr style=\"text-align: right;\">\n",
       "      <th></th>\n",
       "      <th>2025-06-30</th>\n",
       "      <th>2024-06-30</th>\n",
       "      <th>2023-06-30</th>\n",
       "      <th>2022-06-30</th>\n",
       "      <th>2021-06-30</th>\n",
       "    </tr>\n",
       "  </thead>\n",
       "  <tbody>\n",
       "    <tr>\n",
       "      <th>Free Cash Flow</th>\n",
       "      <td>7.161100e+10</td>\n",
       "      <td>7.407100e+10</td>\n",
       "      <td>5.947500e+10</td>\n",
       "      <td>6.514900e+10</td>\n",
       "      <td>NaN</td>\n",
       "    </tr>\n",
       "    <tr>\n",
       "      <th>Repurchase Of Capital Stock</th>\n",
       "      <td>-1.842000e+10</td>\n",
       "      <td>-1.725400e+10</td>\n",
       "      <td>-2.224500e+10</td>\n",
       "      <td>-3.269600e+10</td>\n",
       "      <td>NaN</td>\n",
       "    </tr>\n",
       "    <tr>\n",
       "      <th>Repayment Of Debt</th>\n",
       "      <td>-3.216000e+09</td>\n",
       "      <td>-2.907000e+10</td>\n",
       "      <td>-2.750000e+09</td>\n",
       "      <td>-9.023000e+09</td>\n",
       "      <td>NaN</td>\n",
       "    </tr>\n",
       "  </tbody>\n",
       "</table>\n",
       "</div>"
      ],
      "text/plain": [
       "                               2025-06-30    2024-06-30    2023-06-30  \\\n",
       "Free Cash Flow               7.161100e+10  7.407100e+10  5.947500e+10   \n",
       "Repurchase Of Capital Stock -1.842000e+10 -1.725400e+10 -2.224500e+10   \n",
       "Repayment Of Debt           -3.216000e+09 -2.907000e+10 -2.750000e+09   \n",
       "\n",
       "                               2022-06-30  2021-06-30  \n",
       "Free Cash Flow               6.514900e+10         NaN  \n",
       "Repurchase Of Capital Stock -3.269600e+10         NaN  \n",
       "Repayment Of Debt           -9.023000e+09         NaN  "
      ]
     },
     "execution_count": 10,
     "metadata": {},
     "output_type": "execute_result"
    }
   ],
   "source": [
    "cashflow_statement.head(3)"
   ]
  }
 ],
 "metadata": {
  "kernelspec": {
   "display_name": "prompting_env",
   "language": "python",
   "name": "python3"
  },
  "language_info": {
   "codemirror_mode": {
    "name": "ipython",
    "version": 3
   },
   "file_extension": ".py",
   "mimetype": "text/x-python",
   "name": "python",
   "nbconvert_exporter": "python",
   "pygments_lexer": "ipython3",
   "version": "3.12.11"
  }
 },
 "nbformat": 4,
 "nbformat_minor": 5
}
