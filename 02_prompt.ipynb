{
 "cells": [
  {
   "cell_type": "code",
   "execution_count": 1,
   "id": "c88ae6dc",
   "metadata": {},
   "outputs": [
    {
     "name": "stdout",
     "output_type": "stream",
     "text": [
      "API Key configured: True\n"
     ]
    }
   ],
   "source": [
    "from dotenv import load_dotenv\n",
    "import os\n",
    "\n",
    "load_dotenv()\n",
    "\n",
    "openai_api_key = os.getenv(\"OPENAI_API_KEY\")\n",
    "\n",
    "if openai_api_key:\n",
    "    os.environ[\"OPENAI_API_KEY\"] = openai_api_key\n",
    "    \n",
    "print(\"API Key configured:\", \"OPENAI_API_KEY\" in os.environ)\n",
    "\n",
    "from openai import OpenAI\n",
    "client = OpenAI()"
   ]
  },
  {
   "cell_type": "code",
   "execution_count": 2,
   "id": "4fed7b3a",
   "metadata": {},
   "outputs": [],
   "source": [
    "response = client.chat.completions.create(\n",
    "    model='gpt-4o-mini', #omni model\n",
    "    messages=[\n",
    "        {'role' : 'user', 'content' : '파이썬에 대해 알려줘'}\n",
    "    ]\n",
    ")"
   ]
  },
  {
   "cell_type": "code",
   "execution_count": 3,
   "id": "3a540ddb",
   "metadata": {},
   "outputs": [
    {
     "data": {
      "text/plain": [
       "'파이썬(Python)은 고급 프로그래밍 언어로, 1991년 귀도 반 로썸(Guido van Rossum)에 의해 처음 개발되었습니다. 파이썬은 코드의 가독성이 높고, 문법이 간단하여 초보자부터 전문가까지 널리 사용되고 있습니다. 다음은 파이썬의 주요 특징입니다:\\n\\n1. **가독성**: 파이썬은 코드가 간결하고 명확하여 읽기 쉽습니다. 이를 통해 개발자들은 서로의 코드를 이해하는데 드는 시간이 줄어듭니다.\\n\\n2. **다양한 용도**: 웹 개발, 데이터 분석, 인공지능, 머신러닝, 자동화 스크립트, 게임 개발 등 여러 분야에서 사용됩니다.\\n\\n3. **강력한 라이브러리와 프레임워크**: 데이터 과학을 위한 Pandas, NumPy, SciPy 등 다양한 라이브러리가 있으며, 웹 개발을 위한 Django, Flask 등의 프레임워크가 있습니다.\\n\\n4. **플랫폼 독립성**: 파이썬은 Windows, macOS, Linux 등 다양한 운영체제에서 실행됩니다.\\n\\n5. **인터프리터 언어**: 파이썬 코드는 컴파일 없이 바로 실행할 수 있는 인터프리터 언어입니다. 이로 인해 개발과 디버깅이 용이합니다.\\n\\n6. **객체 지향 프로그래밍(OOP)**: 파이썬은 객체 지향 프로그래밍을 지원하여 코드의 재사용과 구조적 설계를 가능하게 합니다.\\n\\n7. **커뮤니티와 지원**: 활발한 커뮤니티와 풍부한 문서, 튜토리얼이 있어 문제 해결이나 학습에 큰 도움이 됩니다.\\n\\n파이썬은 배우기 쉽고 강력한 기능을 제공하기 때문에, 처음 프로그래밍을 배우는 사람들부터 전문 개발자들까지 널리 사용하고 있습니다. 만약 파이썬을 시작하고 싶다면, 간단한 튜토리얼이나 온라인 강좌를 찾아보는 것이 좋습니다.'"
      ]
     },
     "execution_count": 3,
     "metadata": {},
     "output_type": "execute_result"
    }
   ],
   "source": [
    "response.choices[0].message.content"
   ]
  },
  {
   "cell_type": "code",
   "execution_count": 4,
   "id": "82b5b83b",
   "metadata": {},
   "outputs": [
    {
     "name": "stdout",
     "output_type": "stream",
     "text": [
      "ChatGPT 답변 :  죄송하지만, 실시간 날씨 정보를 제공할 수는 없습니다. 현재 지역의 날씨를 확인하려면 기상청 웹사이트나 날씨 앱을 이용해 주세요. 어떤 지역의 날씨가 궁금한지 말씀해 주시면, 일반적인 날씨 패턴에 대해 설명해드릴 수 있습니다.\n"
     ]
    }
   ],
   "source": [
    "message = {'role' : 'user', 'content' : '오늘의 날씨'}\n",
    "response = client.chat.completions.create(\n",
    "    model='gpt-4o-mini', #omni model\n",
    "    messages=[message]\n",
    ")\n",
    "assistant_reply = response.choices[0].message.content\n",
    "print('ChatGPT 답변 : ', assistant_reply)"
   ]
  },
  {
   "cell_type": "markdown",
   "id": "f72189bd",
   "metadata": {},
   "source": [
    "# 출력 형식 지정"
   ]
  },
  {
   "cell_type": "code",
   "execution_count": 6,
   "id": "e549e525",
   "metadata": {},
   "outputs": [
    {
     "name": "stdout",
     "output_type": "stream",
     "text": [
      "ChatGPT 답변 :  {\"weather\": \"맑음\", \"temperature\": \"20°C\"}\n"
     ]
    }
   ],
   "source": [
    "message = {'role' : 'user', 'content' : '오늘 서울 날씨를 json 형태로 제공해. 키는 weather, temperature 로 설정해.'}\n",
    "response = client.chat.completions.create(\n",
    "    model='gpt-4o-mini', #omni model\n",
    "    messages=[message],\n",
    "    response_format={'type' : 'json_object'}\n",
    ")\n",
    "assistant_reply = response.choices[0].message.content\n",
    "print('ChatGPT 답변 : ', assistant_reply)"
   ]
  },
  {
   "cell_type": "code",
   "execution_count": 12,
   "id": "94481fbf",
   "metadata": {},
   "outputs": [
    {
     "name": "stdout",
     "output_type": "stream",
     "text": [
      "ChatGPT 답변 :  서울의 날씨는 현재 맑고 온도는 22도 입니다.  \n",
      "광주의 날씨는 현재 흐림과 가끔 비가 오고 온도는 24도 입니다.\n"
     ]
    }
   ],
   "source": [
    "message = {'role' : 'user', 'content' : '오늘 가상으로 서울과 광주의 날씨를 출력해. 출력 형식은 \"도시명의 날씨는 현재 OO이고 온도는 OO도 입니다.\" 라고 출력해'}\n",
    "response = client.chat.completions.create(\n",
    "    model='gpt-4o-mini', #omni model\n",
    "    messages=[message]\n",
    ")\n",
    "assistant_reply = response.choices[0].message.content\n",
    "print('ChatGPT 답변 : ', assistant_reply)"
   ]
  },
  {
   "cell_type": "code",
   "execution_count": 13,
   "id": "cef96cd1",
   "metadata": {},
   "outputs": [
    {
     "name": "stdout",
     "output_type": "stream",
     "text": [
      "ChatGPT 답변 :  {\n",
      "  \"서울\": {\n",
      "    \"weather\": \"맑음\",\n",
      "    \"temperature\": \"15°C\"\n",
      "  },\n",
      "  \"광주\": {\n",
      "    \"weather\": \"구름 조금\",\n",
      "    \"temperature\": \"17°C\"\n",
      "  }\n",
      "}\n"
     ]
    }
   ],
   "source": [
    "message = {'role' : 'user', 'content' : '오늘 서울과 광주의 날씨를 json 형태로 제공해. 키는 weather, temperature 로 설정해.'}\n",
    "response = client.chat.completions.create(\n",
    "    model='gpt-4o-mini', #omni model\n",
    "    messages=[message],\n",
    "    response_format={'type' : 'json_object'}\n",
    ")\n",
    "assistant_reply = response.choices[0].message.content\n",
    "print('ChatGPT 답변 : ', assistant_reply)"
   ]
  },
  {
   "cell_type": "code",
   "execution_count": 26,
   "id": "1b15365f",
   "metadata": {},
   "outputs": [
    {
     "name": "stdout",
     "output_type": "stream",
     "text": [
      "서울의 날씨는 맑음이고, 온도는 15°C입니다.\n",
      "광주의 날씨는 구름 조금이고, 온도는 17°C입니다.\n"
     ]
    }
   ],
   "source": [
    "data = json.loads(assistant_reply)\n",
    "for city in data:\n",
    "    print(f'{city}의 날씨는 {data[city]['weather']}이고, 온도는 {data[city]['temperature']}입니다.')"
   ]
  },
  {
   "cell_type": "markdown",
   "id": "55e4d70b",
   "metadata": {},
   "source": [
    "# CoT 프롬프트"
   ]
  },
  {
   "cell_type": "code",
   "execution_count": 29,
   "id": "b9e862c9",
   "metadata": {},
   "outputs": [
    {
     "name": "stdout",
     "output_type": "stream",
     "text": [
      "CoT 적용전 : 철수는 처음에 사과 10개를 가지고 있었습니다. 그 중 3개를 먹었으므로 남은 사과는 10 - 3 = 7개입니다. 이후 5개를 더 구입했으므로 현재 가지고 있는 사과는 7 + 5 = 12개입니다. \n",
      "\n",
      "따라서 철수가 현재 가지고 있는 사과는 12개입니다.\n"
     ]
    }
   ],
   "source": [
    "question = \"철수는 사과 10개를 가지고 있었는데, 그 중 3개를 먹은 후 5개를 더 구입했습니다. 철수가 현재 가지고 있는 사과는 몇 개일까요?\"\n",
    "\n",
    "response = client.chat.completions.create(\n",
    "    messages=[{'role':'user','content':question}],\n",
    "    model='gpt-4o-mini',\n",
    "    temperature=0\n",
    ")\n",
    "print('CoT 적용전 :', response.choices[0].message.content)"
   ]
  },
  {
   "cell_type": "code",
   "execution_count": 30,
   "id": "1669b295",
   "metadata": {},
   "outputs": [
    {
     "name": "stdout",
     "output_type": "stream",
     "text": [
      "CoT 적용전 : 단계별로 생각해보겠습니다.\n",
      "\n",
      "1. 철수는 처음에 사과 10개를 가지고 있었습니다.\n",
      "2. 그 중 3개를 먹었습니다. \n",
      "   - 10개 - 3개 = 7개\n",
      "3. 이후 5개를 더 구입했습니다.\n",
      "   - 7개 + 5개 = 12개\n",
      "\n",
      "따라서, 철수가 현재 가지고 있는 사과는 12개입니다.\n"
     ]
    }
   ],
   "source": [
    "cot_prompt = \"(생각을 단계별로 진행해)\\n\" + question\n",
    "\n",
    "response = client.chat.completions.create(\n",
    "    messages=[{'role':'user','content':cot_prompt}],\n",
    "    model='gpt-4o-mini',\n",
    "    temperature=0\n",
    ")\n",
    "print('CoT 적용전 :', response.choices[0].message.content)"
   ]
  },
  {
   "cell_type": "code",
   "execution_count": 36,
   "id": "b5a167c5",
   "metadata": {},
   "outputs": [
    {
     "name": "stdout",
     "output_type": "stream",
     "text": [
      "주어진 문제를 단계별로 풀어보겠습니다.\n",
      "\n",
      "1. **문제 이해하기**: 어떤 수를 \\( x \\)라고 할 때, 이 수를 3배한 결과에 4를 더하면 19가 된다고 합니다. 이를 수식으로 표현하면 다음과 같습니다.\n",
      "   \\[\n",
      "   3x + 4 = 19\n",
      "   \\]\n",
      "\n",
      "2. **방정식 정리하기**: 이제 이 방정식을 풀어보겠습니다. 먼저, 양쪽에서 4를 빼줍니다.\n",
      "   \\[\n",
      "   3x + 4 - 4 = 19 - 4\n",
      "   \\]\n",
      "   \\[\n",
      "   3x = 15\n",
      "   \\]\n",
      "\n",
      "3. **x 구하기**: 이제 양쪽을 3으로 나누어 \\( x \\)의 값을 구합니다.\n",
      "   \\[\n",
      "   x = \\frac{15}{3}\n",
      "   \\]\n",
      "   \\[\n",
      "   x = 5\n",
      "   \\]\n",
      "\n",
      "4. **정답 확인하기**: 구한 \\( x \\)의 값을 원래 문제에 대입하여 확인해보겠습니다.\n",
      "   \\[\n",
      "   3 \\times 5 + 4 = 15 + 4 = 19\n",
      "   \\]\n",
      "   맞습니다. \n",
      "\n",
      "따라서, 그 수는 **5**입니다.\n"
     ]
    }
   ],
   "source": [
    "question = \"어떤 수를 3배한 결과에 4를 더하면 19가 됩니다. 그 수는 무엇일까요? 단계별로 풀어보세요.\"\n",
    "\n",
    "response = client.chat.completions.create(\n",
    "    messages=[{'role':'user','content':question}],\n",
    "    model='gpt-4o-mini',\n",
    "    temperature=0\n",
    ")\n",
    "print(response.choices[0].message.content)"
   ]
  },
  {
   "cell_type": "markdown",
   "id": "da043787",
   "metadata": {},
   "source": [
    "# Self consistency 기법"
   ]
  },
  {
   "cell_type": "code",
   "execution_count": 37,
   "id": "43bb288b",
   "metadata": {},
   "outputs": [
    {
     "name": "stdout",
     "output_type": "stream",
     "text": [
      "응답 1 : 주어진 문제를 단계별로 풀어보겠습니다.\n",
      "\n",
      "1. **문제를 방정식으로 설정하기**: \n",
      "   어떤 수를 \\( x \\)라고 가정합니다. 문제에서 설명한 조건을 방정식으로 표현하면 다음과 같습니다:\n",
      "   \\[\n",
      "   3x + 4 = 19\n",
      "   \\]\n",
      "\n",
      "2. **방정식 정리하기**: \n",
      "   먼저 왼쪽에서 4를 빼줍니다:\n",
      "   \\[\n",
      "   3x + 4 - 4 = 19 - 4\n",
      "   \\]\n",
      "   그러면:\n",
      "   \\[\n",
      "   3x = 15\n",
      "   \\]\n",
      "\n",
      "3. **양변을 3으로 나누기**:\n",
      "   이제 양변을 3으로 나누어 \\( x \\)의 값을 구합니다:\n",
      "   \\[\n",
      "   x = \\frac{15}{3}\n",
      "   \\]\n",
      "   \\[\n",
      "   x = 5\n",
      "   \\]\n",
      "\n",
      "4. **정답 확인하기**:\n",
      "   원래의 조건을 확인해 보겠습니다. \\( x = 5 \\)일 때, 3배한 결과에 4를 더하면:\n",
      "   \\[\n",
      "   3 \\times 5 + 4 = 15 + 4 = 19\n",
      "   \\]\n",
      "   조건이 맞습니다.\n",
      "\n",
      "결론적으로, 문제에서 찾고자 하는 수는 **5**입니다.\n",
      "응답 2 : 문제를 단계별로 풀어보겠습니다.\n",
      "\n",
      "1. **문제를 수식으로 표현하기**:\n",
      "   어떤 수를 \\( x \\)라고 가정하겠습니다. 문제에 따르면, 이 수를 3배한 후에 4를 더하면 19가 됩니다. 따라서 다음과 같은 수식을 세울 수 있습니다:\n",
      "   \\[\n",
      "   3x + 4 = 19\n",
      "   \\]\n",
      "\n",
      "2. **양 변에서 4를 빼기**:\n",
      "   수식에서 4를 제거하기 위해 양 변에서 4를 빼줍니다.\n",
      "   \\[\n",
      "   3x + 4 - 4 = 19 - 4\n",
      "   \\]\n",
      "   이 결과는:\n",
      "   \\[\n",
      "   3x = 15\n",
      "   \\]\n",
      "\n",
      "3. **양 변을 3으로 나누기**:\n",
      "   각 변을 3으로 나누어 \\( x \\)를 구합니다.\n",
      "   \\[\n",
      "   x = \\frac{15}{3}\n",
      "   \\]\n",
      "   계산하면:\n",
      "   \\[\n",
      "   x = 5\n",
      "   \\]\n",
      "\n",
      "4. **정답 검증**:\n",
      "   구한 \\( x \\) 값을 원래 문제에 대입하여 확인합니다.\n",
      "   \\[\n",
      "   3 \\times 5 + 4 = 15 + 4 = 19\n",
      "   \\]\n",
      "   결과가 19가 맞으므로, 구한 값이 맞습니다.\n",
      "\n",
      "따라서, 그 수는 \\( \\boxed{5} \\)입니다.\n",
      "응답 3 : 주어진 문제를 단계별로 풀어보겠습니다.\n",
      "\n",
      "1. **문제 이해**: 어떤 수를 x라고 가정합니다. 그러면 \"그 수를 3배한 결과에 4를 더하면 19가 된다\"는 식으로 표현할 수 있습니다.\n",
      "  \n",
      "   식은 다음과 같습니다:\n",
      "   \\[\n",
      "   3x + 4 = 19\n",
      "   \\]\n",
      "\n",
      "2. **식 간단히 하기**: 이제 이 식에서 x를 구하기 위해 먼저 4를 양변에서 뺍니다.\n",
      "   \\[\n",
      "   3x + 4 - 4 = 19 - 4\n",
      "   \\]\n",
      "   따라서,\n",
      "   \\[\n",
      "   3x = 15\n",
      "   \\]\n",
      "\n",
      "3. **x에 대한 식 구하기**: 이제 x를 구하기 위해 양변을 3으로 나눕니다.\n",
      "   \\[\n",
      "   x = \\frac{15}{3}\n",
      "   \\]\n",
      "   그러면,\n",
      "   \\[\n",
      "   x = 5\n",
      "   \\]\n",
      "\n",
      "4. **해 검증하기**: 구한 값 x = 5가 맞는지 확인해봅시다. \n",
      "   \\[\n",
      "   3 \\times 5 + 4 = 15 + 4 = 19\n",
      "   \\]\n",
      "   결과가 19이므로, 대입한 값이 맞습니다.\n",
      "\n",
      "결과적으로, 그 수는 **5**입니다.\n",
      "응답 4 : 문제를 단계별로 풉시다.\n",
      "\n",
      "1. 문제를 수식으로 표현합니다. “어떤 수를 3배한 결과에 4를 더하면 19가 된다”를 수식으로 표현하면:\n",
      "   \\[\n",
      "   3x + 4 = 19\n",
      "   \\]\n",
      "   여기서 \\(x\\)는 우리가 찾고자 하는 수입니다.\n",
      "\n",
      "2. 양변에서 4를 빼서 3배한 수를 구합니다:\n",
      "   \\[\n",
      "   3x + 4 - 4 = 19 - 4\n",
      "   \\]\n",
      "   이 식을 정리하면:\n",
      "   \\[\n",
      "   3x = 15\n",
      "   \\]\n",
      "\n",
      "3. 이제 양변을 3으로 나누어 \\(x\\) 값을 구합니다:\n",
      "   \\[\n",
      "   x = \\frac{15}{3}\n",
      "   \\]\n",
      "   계산하면:\n",
      "   \\[\n",
      "   x = 5\n",
      "   \\]\n",
      "\n",
      "4. 따라서, 우리가 찾고 있는 수는 \\(5\\)입니다.\n",
      "\n",
      "5. 마지막으로, 결과를 검증해봅시다. \\(x = 5\\)일 때:\n",
      "   \\[\n",
      "   3 \\times 5 + 4 = 15 + 4 = 19\n",
      "   \\]\n",
      "   결과가 맞으므로, 최종 정답은 \\( \\boxed{5} \\)입니다.\n",
      "응답 5 : 주어진 문제를 단계별로 풀어보겠습니다.\n",
      "\n",
      "1. 문제 설정: 어떤 수를 \\( x \\)라고 합시다. 그러면 문제에서 주어진 표현은 다음과 같습니다.\n",
      "   \\[\n",
      "   3x + 4 = 19\n",
      "   \\]\n",
      "\n",
      "2. 방정식 정리: 이제 방정식을 풀기 위해서 먼저 4를 양변에서 빼줍니다.\n",
      "   \\[\n",
      "   3x + 4 - 4 = 19 - 4\n",
      "   \\]\n",
      "   간단히 정리하면:\n",
      "   \\[\n",
      "   3x = 15\n",
      "   \\]\n",
      "\n",
      "3. \\( x \\)를 구하기 위해 양변을 3으로 나누어 줍니다:\n",
      "   \\[\n",
      "   x = \\frac{15}{3}\n",
      "   \\]\n",
      "   계산해보면:\n",
      "   \\[\n",
      "   x = 5\n",
      "   \\]\n",
      "\n",
      "4. 결론: 따라서, 문제에서 요구하는 수는 \\( 5 \\)입니다. \n",
      "\n",
      "이제 결과를 검증해봅시다.\n",
      "- 5를 3배하면 \\( 3 \\times 5 = 15 \\)이고, 여기에 4를 더하면 \\( 15 + 4 = 19 \\)가 됩니다. \n",
      "- 맞습니다! \n",
      "\n",
      "정답은 \\( 5 \\)입니다.\n"
     ]
    }
   ],
   "source": [
    "question = \"어떤 수를 3배한 결과에 4를 더하면 19가 됩니다. 그 수는 무엇일까요? 단계별로 풀어보세요.\"\n",
    "message = [{'role':'user','content':question}]\n",
    "answers = []\n",
    "for i in range(5):\n",
    "    response = client.chat.completions.create(\n",
    "        messages=message,\n",
    "        model='gpt-4o-mini',\n",
    "        temperature=1.0\n",
    "    )\n",
    "    answer = response.choices[0].message.content.strip()\n",
    "    answers.append(answer)\n",
    "    print(f'응답 {i+1} : {answer}')"
   ]
  },
  {
   "cell_type": "code",
   "execution_count": 44,
   "id": "2e2b434b",
   "metadata": {},
   "outputs": [
    {
     "name": "stdout",
     "output_type": "stream",
     "text": [
      "최종 답 : \\)입니다.\n"
     ]
    }
   ],
   "source": [
    "final_answer = [ans.split()[-1] for ans in answers]\n",
    "import collections\n",
    "count = collections.Counter(final_answer)\n",
    "final_ans = count.most_common(1)[0][0]\n",
    "print(f'최종 답 : {final_ans}')"
   ]
  },
  {
   "cell_type": "markdown",
   "id": "2d09bb84",
   "metadata": {},
   "source": [
    "# Reflextion (자기 피드백 반복 프롬프트 설계)"
   ]
  },
  {
   "cell_type": "code",
   "execution_count": 62,
   "id": "b70382d5",
   "metadata": {},
   "outputs": [
    {
     "name": "stdout",
     "output_type": "stream",
     "text": [
      "틀렸습니다. 힌트는 7의 제곱값을 정확히 구한 다음 5를 곱하세요\n"
     ]
    }
   ],
   "source": [
    "question = \"7의 2승에 5를 곱한 값은 무엇인가?\"\n",
    "response = client.chat.completions.create(\n",
    "    messages=[{'role':'user','content':question}],\n",
    "    model='gpt-3.5-turbo',\n",
    "    temperature=1.0\n",
    ")\n",
    "answer = response.choices[0].message.content.strip() #모델의 출력값\n",
    "\n",
    "correct_answer = 245 # 우리가 주는 피드백\n",
    "if str(correct_answer) in answer :\n",
    "    feedback = '정답입니다.'\n",
    "    need_retry = False\n",
    "else:\n",
    "    feedback = '틀렸습니다. 힌트는 7의 제곱값을 정확히 구한 다음 5를 곱하세요'\n",
    "    need_retry = True\n",
    "    \n",
    "print(feedback)"
   ]
  },
  {
   "cell_type": "markdown",
   "id": "80d4a98b",
   "metadata": {},
   "source": [
    "#틀린 답을 출력하는 모델은?"
   ]
  },
  {
   "cell_type": "code",
   "execution_count": 63,
   "id": "96be1550",
   "metadata": {},
   "outputs": [
    {
     "name": "stdout",
     "output_type": "stream",
     "text": [
      "49. (7^2) * 5 = 245.\n"
     ]
    }
   ],
   "source": [
    "#2차 답변 생성\n",
    "if need_retry:\n",
    "    retry_prompt = f'이전 답변 : {answer}, 피드백: {feedback}\\n 다시 답을 구하세요'\n",
    "    response2 = client.chat.completions.create(\n",
    "        messages=[{'role':'user','content':retry_prompt}],\n",
    "        model='gpt-3.5-turbo',\n",
    "        temperature=1.0\n",
    "    )\n",
    "    answer2 = response2.choices[0].message.content.strip()\n",
    "    print(answer2)"
   ]
  },
  {
   "cell_type": "code",
   "execution_count": 64,
   "id": "15f02be7",
   "metadata": {},
   "outputs": [
    {
     "name": "stdout",
     "output_type": "stream",
     "text": [
      "기후 변화는 현대 사회가 직면하고 있는 가장 심각한 문제 중 하나로, 전 세계적인 환경 변화와 그로 인한 다양한 영향을 초래하고 있다. 기후 변화의 주요 원인은 주로 인류의 산업 활동과 같은 인간의 활동에 기인한다. 이 에세이에서는 기후 변화의 원인과 그 해결 방안에 대해 간략히 설명하고자 한다.\n",
      "\n",
      "먼저, 기후 변화의 주요 원인 중 하나는 온실가스의 배출이다. 화석 연료의 연소, 산업화, 농업 활동 등은 대량의 이산화탄소(CO2), 메탄(CH4), 아산화질소(N2O) 등을 대기 중에 방출한다. 이러한 온실가스는 지구의 대기를 덮어 열을 가두는 역할을 하여 지구 온도를 상승시키고, 그 결과 이상 기후 현상, 해수면 상승, 생태계 파괴 등이 발생한다.\n",
      "\n",
      "또한, 대규모 삼림 벌채 역시 기후 변화에 큰 영향을 미친다. 나무는 이산화탄소를 흡수하여 산소를 방출하는 중요한 역할을 하지만, 삼림이 줄어들면서 이산화탄소의 축적이 더욱 가속화된다. 도시화와 산업화에 따른 생태계 파괴 또한 기후 변화의 요인으로 작용한다.\n",
      "\n",
      "이제 해결 방안에 대해 논의해 보자. 첫째, 재생 가능 에너지의 사용 확대가 필요하다. 태양광, 풍력, 수력 등 청정 에너지원의 개발 및 보급을 통해 화석 연료 의존도를 줄일 수 있다. 둘째, 에너지 효율성을 높이는 기술과 정책을 도입해야 한다. 이는 산업과 가정에서 에너지 사용을 줄이면서 온실가스 배출을 감소시키는 효과를 가져온다.\n",
      "\n",
      "셋째, 대중교통 이용을 장려하고 개인 차량 사용을 줄이는 정책이 필요하다. 이를 통해 교통 부문에서의 온실가스 배출을 효과적으로 줄일 수 있다. 넷째, 지속 가능한 농업과 삼림 관리 방식을 도입하여 탄소 흡수 능력을 높이는 것도 중요한 방안이다.\n",
      "\n",
      "마지막으로, 개인의 참여와 인식이 필요하다. 개인의 일상생활에서 에너지 절약, 재활용, 대중교통 이용 등 작은 실천들이 모이면 큰 변화를 이끌어낼 수 있다. 또한, 기후 변화에 대한 교육과 논의가 활발히 이루어져야만 사회 전반의 관심과 행동 변화를 이끌어낼 수 있다.\n",
      "\n",
      "결론적으로, 기후 변화는 인류가 직면한 중대한 도전이지만, 올바른 이해와 실천을 통해 해결 가능하다. 정부, 기업, 시민이 함께 노력하여 지속 가능한 미래를 위한 길을 만들어 나가야 할 때이다.\n"
     ]
    }
   ],
   "source": [
    "prompt = '기후 변화의 원인과 해결 방안에 대해 간략한 에세이를 작성하시오.'\n",
    "response = client.chat.completions.create(\n",
    "    messages=[{'role':'user','content':prompt}],\n",
    "    model='gpt-4o-mini',\n",
    "    temperature=1.0\n",
    ")\n",
    "answer = response.choices[0].message.content.strip()\n",
    "print(answer)"
   ]
  },
  {
   "cell_type": "code",
   "execution_count": 68,
   "id": "868eaa1f",
   "metadata": {},
   "outputs": [
    {
     "name": "stdout",
     "output_type": "stream",
     "text": [
      "기후 변화는 현대 사회가 직면한 가장 심각한 문제 중 하나로, 지구 생태계와 인류의 삶에 중대한 영향을 미치고 있다. IPCC(기후변화에 관한 정부 간 패널)의 보고서에 따르면, 인간 활동이 직접적으로 책임지고 있는 기후 변화는 지구 평균 기온을 1.1도 상승시켰으며, 그 결과로 극단적인 기후 현상과 생태계의 파괴가 가속화되고 있다. 이 에세이에서는 기후 변화의 원인과 함께 구체적인 사례를 통해 해결 방안을 제시하고자 한다.\n",
      "\n",
      "첫째, 기후 변화의 주요 원인 중 하나는 온실가스의 배출이다. 2022년 보고서에 따르면, 전 세계적으로 36억 톤의 이산화탄소가 대기 중에 배출되었으며, 이는 주로 화석 연료의 연소와 산업 활동에 의해 발생한다. 특히, 석탄 사용은 가장 높은 배출량을 기록하고 있으며, 이는 세계 에너지의 약 40%를 차지하고 있다. 이러한 온실가스는 대기를 덮어 지구 온도를 상승시키고, 그 결과로 해수면 상승, 빈번한 허리케인, 가뭄, 홍수 등의 이상 기후 현상을 초래하고 있다.\n",
      "\n",
      "둘째, 대규모 삼림 벌채 역시 기후 변화에 큰 영향을 미친다. 예를 들어, 아마존 우림에서의 삼림 파괴는 연간 약 2억 톤의 이산화탄소를 대기 중에 방출하는 것으로 추정된다. 나무는 이산화탄소를 흡수하여 산소를 방출하는 중요한 역할을 하지만, 삼림이 줄어들면서 지구의 탄소 저장 능력이 제한되며, 결과적으로 온실가스 축적이 가속화된다. 또한, 도시화와 산업화에 따른 생태계 파괴는 생물 다양성 감소를 야기하여, 지구의 자연 회복력을 약화시킨다.\n",
      "\n",
      "이제 기후 변화의 해결 방안에 대해 논의해 보자. 첫째, 재생 가능 에너지의 사용 확대가 필요하다. 2022년 기준으로, 전 세계 재생 가능 에너지원의 비중은 29%에 이르렀지만, 목표 수치인 50%까지 도달하기 위해서는 투자가 더욱 필요하다. 태양광, 풍력, 수력 등 청정 에너지원의 개발 및 보급을 통해 화석 연료 의존도를 줄일 수 있으며, 이는 에너지 수급의 안정성을 높이는 데도 기여할 수 있다.\n",
      "\n",
      "둘째, 에너지 효율성을 높이는 기술과 정책을 도입해야 한다. 예를 들어, 에너지 효율적인 가전제품의 사용은 가정에서의 전력 소비를 20% 이상 줄이는 효과를 가져온다. 산업에서도 에너지 관리 시스템을 도입함으로써 온실가스 배출을 30% 이상 감소시킬 수 있는 잠재력이 있다.\n",
      "\n",
      "셋째, 대중교통 이용을 장려하고 개인 차량 사용을 줄이는 정책이 필요하다. 예를 들어, 덴마크의 코펜하겐은 자전거 도로를 확대하고 대중교통 인프라를 개선함으로써 도시의 온실가스 배출을 33% 줄이는 성과를 거두었다. 이러한 사례는 대중교통 이용을 촉진하고, 개인 차량의 사용을 최소화하는 것이 기후 변화 대응에 얼마나 효과적인지를 보여준다.\n",
      "\n",
      "넷째, 지속 가능한 농업과 삼림 관리 방식을 도입하여 탄소 흡수 능력을 높이는 것도 중요한 방안이다. 예를 들어, 적정 농업 기술을 적용하여 토양의 탄소 저장 능력을 향상시키는 실천은 농업 부문의 온실가스 배출을 크게 줄일 수 있다.\n",
      "\n",
      "마지막으로, 개인의 참여와 인식이 필요하다. 개인의 일상에서 에너지 절약, 재활용, 대중교통 이용 등의 작은 실천들이 모이면 큰 변화를 이끌어낼 수 있다. 또한, 기후 변화에 대한 교육과 논의가 활발히 이루어져야만 사회 전반의 관심과 행동 변화를 유도할 수 있다. 예를 들어, 캠페인이나 지역 사회 행사에서 기후 변화에 관한 정보를 공유하는 것이 중요하다.\n",
      "\n",
      "결론적으로, 기후 변화는 인류가 직면한 중대한 도전이지만, 올바른 이해와 실천을 통해 해결 가능한 문제이다. 정부, 기업, 그리고 개인이 함께 노력하여 지속 가능한 미래를 위한 길을 만들어 나가야 할 때이다. 기후 변화에 대한 우리의 행동이 지역 사회와 전 세계에 긍정적인 영향을 미칠 수 있도록, 지금 바로 행동에 나서야 한다.\n"
     ]
    }
   ],
   "source": [
    "feedback1 = '구체적인 사례와 데이터, 그리고 더욱 세련된 표현을 더하세요'\n",
    "prompt2 = f'이전 답변 : {answer}, 피드백: {feedback1}\\n 에세이를 다시 쓰세요'\n",
    "\n",
    "response2 = client.chat.completions.create(\n",
    "    messages=[{'role':'user','content':prompt2}],\n",
    "    model='gpt-4o-mini',\n",
    "    temperature=1.0\n",
    ")\n",
    "answer2 = response2.choices[0].message.content.strip()\n",
    "print(answer2)"
   ]
  }
 ],
 "metadata": {
  "kernelspec": {
   "display_name": "prompting_env",
   "language": "python",
   "name": "python3"
  },
  "language_info": {
   "codemirror_mode": {
    "name": "ipython",
    "version": 3
   },
   "file_extension": ".py",
   "mimetype": "text/x-python",
   "name": "python",
   "nbconvert_exporter": "python",
   "pygments_lexer": "ipython3",
   "version": "3.12.11"
  }
 },
 "nbformat": 4,
 "nbformat_minor": 5
}
