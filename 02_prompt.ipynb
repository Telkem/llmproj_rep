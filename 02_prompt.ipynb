{
 "cells": [
  {
   "cell_type": "code",
   "execution_count": 1,
   "id": "c88ae6dc",
   "metadata": {},
   "outputs": [
    {
     "name": "stdout",
     "output_type": "stream",
     "text": [
      "API Key configured: True\n"
     ]
    }
   ],
   "source": [
    "from dotenv import load_dotenv\n",
    "import os\n",
    "\n",
    "load_dotenv()\n",
    "\n",
    "openai_api_key = os.getenv(\"OPENAI_API_KEY\")\n",
    "\n",
    "if openai_api_key:\n",
    "    os.environ[\"OPENAI_API_KEY\"] = openai_api_key\n",
    "    \n",
    "print(\"API Key configured:\", \"OPENAI_API_KEY\" in os.environ)\n",
    "\n",
    "from openai import OpenAI\n",
    "client = OpenAI()"
   ]
  },
  {
   "cell_type": "code",
   "execution_count": 2,
   "id": "4fed7b3a",
   "metadata": {},
   "outputs": [],
   "source": [
    "response = client.chat.completions.create(\n",
    "    model='gpt-4o-mini', #omni model\n",
    "    messages=[\n",
    "        {'role' : 'user', 'content' : '파이썬에 대해 알려줘'}\n",
    "    ]\n",
    ")"
   ]
  },
  {
   "cell_type": "code",
   "execution_count": 3,
   "id": "3a540ddb",
   "metadata": {},
   "outputs": [
    {
     "data": {
      "text/plain": [
       "'파이썬(Python)은 고급 프로그래밍 언어로, 1991년 귀도 반 로썸(Guido van Rossum)에 의해 처음 개발되었습니다. 파이썬은 코드의 가독성이 높고, 문법이 간단하여 초보자부터 전문가까지 널리 사용되고 있습니다. 다음은 파이썬의 주요 특징입니다:\\n\\n1. **가독성**: 파이썬은 코드가 간결하고 명확하여 읽기 쉽습니다. 이를 통해 개발자들은 서로의 코드를 이해하는데 드는 시간이 줄어듭니다.\\n\\n2. **다양한 용도**: 웹 개발, 데이터 분석, 인공지능, 머신러닝, 자동화 스크립트, 게임 개발 등 여러 분야에서 사용됩니다.\\n\\n3. **강력한 라이브러리와 프레임워크**: 데이터 과학을 위한 Pandas, NumPy, SciPy 등 다양한 라이브러리가 있으며, 웹 개발을 위한 Django, Flask 등의 프레임워크가 있습니다.\\n\\n4. **플랫폼 독립성**: 파이썬은 Windows, macOS, Linux 등 다양한 운영체제에서 실행됩니다.\\n\\n5. **인터프리터 언어**: 파이썬 코드는 컴파일 없이 바로 실행할 수 있는 인터프리터 언어입니다. 이로 인해 개발과 디버깅이 용이합니다.\\n\\n6. **객체 지향 프로그래밍(OOP)**: 파이썬은 객체 지향 프로그래밍을 지원하여 코드의 재사용과 구조적 설계를 가능하게 합니다.\\n\\n7. **커뮤니티와 지원**: 활발한 커뮤니티와 풍부한 문서, 튜토리얼이 있어 문제 해결이나 학습에 큰 도움이 됩니다.\\n\\n파이썬은 배우기 쉽고 강력한 기능을 제공하기 때문에, 처음 프로그래밍을 배우는 사람들부터 전문 개발자들까지 널리 사용하고 있습니다. 만약 파이썬을 시작하고 싶다면, 간단한 튜토리얼이나 온라인 강좌를 찾아보는 것이 좋습니다.'"
      ]
     },
     "execution_count": 3,
     "metadata": {},
     "output_type": "execute_result"
    }
   ],
   "source": [
    "response.choices[0].message.content"
   ]
  },
  {
   "cell_type": "code",
   "execution_count": 4,
   "id": "82b5b83b",
   "metadata": {},
   "outputs": [
    {
     "name": "stdout",
     "output_type": "stream",
     "text": [
      "ChatGPT 답변 :  죄송하지만, 실시간 날씨 정보를 제공할 수는 없습니다. 현재 지역의 날씨를 확인하려면 기상청 웹사이트나 날씨 앱을 이용해 주세요. 어떤 지역의 날씨가 궁금한지 말씀해 주시면, 일반적인 날씨 패턴에 대해 설명해드릴 수 있습니다.\n"
     ]
    }
   ],
   "source": [
    "message = {'role' : 'user', 'content' : '오늘의 날씨'}\n",
    "response = client.chat.completions.create(\n",
    "    model='gpt-4o-mini', #omni model\n",
    "    messages=[message]\n",
    ")\n",
    "assistant_reply = response.choices[0].message.content\n",
    "print('ChatGPT 답변 : ', assistant_reply)"
   ]
  },
  {
   "cell_type": "markdown",
   "id": "f72189bd",
   "metadata": {},
   "source": [
    "# 출력 형식 지정"
   ]
  },
  {
   "cell_type": "code",
   "execution_count": 6,
   "id": "e549e525",
   "metadata": {},
   "outputs": [
    {
     "name": "stdout",
     "output_type": "stream",
     "text": [
      "ChatGPT 답변 :  {\"weather\": \"맑음\", \"temperature\": \"20°C\"}\n"
     ]
    }
   ],
   "source": [
    "message = {'role' : 'user', 'content' : '오늘 서울 날씨를 json 형태로 제공해. 키는 weather, temperature 로 설정해.'}\n",
    "response = client.chat.completions.create(\n",
    "    model='gpt-4o-mini', #omni model\n",
    "    messages=[message],\n",
    "    response_format={'type' : 'json_object'}\n",
    ")\n",
    "assistant_reply = response.choices[0].message.content\n",
    "print('ChatGPT 답변 : ', assistant_reply)"
   ]
  },
  {
   "cell_type": "code",
   "execution_count": 8,
   "id": "919178b7",
   "metadata": {},
   "outputs": [
    {
     "name": "stdout",
     "output_type": "stream",
     "text": [
      "ChatGPT 답변 :  {\n",
      "  \"서울\": {\n",
      "    \"weather\": \"맑음\",\n",
      "    \"temperature\": \"20°C\"\n",
      "  },\n",
      "  \"광주\": {\n",
      "    \"weather\": \"흐림\",\n",
      "    \"temperature\": \"22°C\"\n",
      "  }\n",
      "} \n",
      "\n",
      "\t\n"
     ]
    }
   ],
   "source": [
    "message = {'role' : 'user', 'content' : '오늘 서울과 광주의 날씨를 json 형태로 제공해. 키는 weather, temperature 로 설정해.'}\n",
    "response = client.chat.completions.create(\n",
    "    model='gpt-4o-mini', #omni model\n",
    "    messages=[message],\n",
    "    response_format={'type' : 'json_object'}\n",
    ")\n",
    "assistant_reply = response.choices[0].message.content\n",
    "print('ChatGPT 답변 : ', assistant_reply)"
   ]
  },
  {
   "cell_type": "code",
   "execution_count": 9,
   "id": "d9a95a7e",
   "metadata": {},
   "outputs": [
    {
     "data": {
      "text/plain": [
       "dict_keys(['서울', '광주'])"
      ]
     },
     "execution_count": 9,
     "metadata": {},
     "output_type": "execute_result"
    }
   ],
   "source": [
    "import json\n",
    "\n",
    "data = json.loads(assistant_reply)\n",
    "data.keys()"
   ]
  },
  {
   "cell_type": "code",
   "execution_count": 12,
   "id": "94481fbf",
   "metadata": {},
   "outputs": [
    {
     "name": "stdout",
     "output_type": "stream",
     "text": [
      "ChatGPT 답변 :  서울의 날씨는 현재 맑고 온도는 22도 입니다.  \n",
      "광주의 날씨는 현재 흐림과 가끔 비가 오고 온도는 24도 입니다.\n"
     ]
    }
   ],
   "source": [
    "message = {'role' : 'user', 'content' : '오늘 가상으로 서울과 광주의 날씨를 출력해. 출력 형식은 \"도시명의 날씨는 현재 OO이고 온도는 OO도 입니다.\" 라고 출력해'}\n",
    "response = client.chat.completions.create(\n",
    "    model='gpt-4o-mini', #omni model\n",
    "    messages=[message]\n",
    ")\n",
    "assistant_reply = response.choices[0].message.content\n",
    "print('ChatGPT 답변 : ', assistant_reply)"
   ]
  },
  {
   "cell_type": "code",
   "execution_count": null,
   "id": "cef96cd1",
   "metadata": {},
   "outputs": [],
   "source": []
  },
  {
   "cell_type": "code",
   "execution_count": null,
   "id": "1b15365f",
   "metadata": {},
   "outputs": [],
   "source": []
  },
  {
   "cell_type": "code",
   "execution_count": null,
   "id": "b9e862c9",
   "metadata": {},
   "outputs": [],
   "source": []
  },
  {
   "cell_type": "code",
   "execution_count": null,
   "id": "1669b295",
   "metadata": {},
   "outputs": [],
   "source": []
  },
  {
   "cell_type": "code",
   "execution_count": null,
   "id": "b5a167c5",
   "metadata": {},
   "outputs": [],
   "source": []
  },
  {
   "cell_type": "code",
   "execution_count": null,
   "id": "43bb288b",
   "metadata": {},
   "outputs": [],
   "source": []
  },
  {
   "cell_type": "code",
   "execution_count": null,
   "id": "2e2b434b",
   "metadata": {},
   "outputs": [],
   "source": []
  },
  {
   "cell_type": "code",
   "execution_count": null,
   "id": "b70382d5",
   "metadata": {},
   "outputs": [],
   "source": []
  },
  {
   "cell_type": "code",
   "execution_count": null,
   "id": "96be1550",
   "metadata": {},
   "outputs": [],
   "source": []
  },
  {
   "cell_type": "code",
   "execution_count": null,
   "id": "15f02be7",
   "metadata": {},
   "outputs": [],
   "source": []
  },
  {
   "cell_type": "code",
   "execution_count": null,
   "id": "868eaa1f",
   "metadata": {},
   "outputs": [],
   "source": []
  }
 ],
 "metadata": {
  "kernelspec": {
   "display_name": "prompting_env",
   "language": "python",
   "name": "python3"
  },
  "language_info": {
   "codemirror_mode": {
    "name": "ipython",
    "version": 3
   },
   "file_extension": ".py",
   "mimetype": "text/x-python",
   "name": "python",
   "nbconvert_exporter": "python",
   "pygments_lexer": "ipython3",
   "version": "3.12.11"
  }
 },
 "nbformat": 4,
 "nbformat_minor": 5
}
