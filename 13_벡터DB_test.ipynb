{
 "cells": [
  {
   "cell_type": "code",
   "execution_count": 1,
   "id": "cc7cb4a0",
   "metadata": {},
   "outputs": [],
   "source": [
    "from dotenv import load_dotenv\n",
    "import os\n",
    "\n",
    "load_dotenv()\n",
    "\n",
    "PINECONE_API_KEY = os.environ['PINECONE_API_KEY']"
   ]
  },
  {
   "cell_type": "markdown",
   "id": "d75a58c3",
   "metadata": {},
   "source": [
    "# index 생성"
   ]
  },
  {
   "cell_type": "code",
   "execution_count": 3,
   "id": "735361af",
   "metadata": {},
   "outputs": [],
   "source": [
    "from pinecone import Pinecone\n",
    "# 클라이언트 생성\n",
    "pinecone_client = Pinecone(api_key=PINECONE_API_KEY)"
   ]
  },
  {
   "cell_type": "code",
   "execution_count": 4,
   "id": "b15ea802",
   "metadata": {},
   "outputs": [
    {
     "data": {
      "text/plain": [
       "<pinecone.pinecone.Pinecone at 0x1e7eb2a7b60>"
      ]
     },
     "execution_count": 4,
     "metadata": {},
     "output_type": "execute_result"
    }
   ],
   "source": [
    "pinecone_client"
   ]
  },
  {
   "cell_type": "code",
   "execution_count": 5,
   "id": "707b279a",
   "metadata": {},
   "outputs": [
    {
     "data": {
      "text/plain": [
       "{\n",
       "    \"name\": \"embedding-3d\",\n",
       "    \"metric\": \"cosine\",\n",
       "    \"host\": \"embedding-3d-o45zd0f.svc.aped-4627-b74a.pinecone.io\",\n",
       "    \"spec\": {\n",
       "        \"serverless\": {\n",
       "            \"cloud\": \"aws\",\n",
       "            \"region\": \"us-east-1\"\n",
       "        }\n",
       "    },\n",
       "    \"status\": {\n",
       "        \"ready\": true,\n",
       "        \"state\": \"Ready\"\n",
       "    },\n",
       "    \"vector_type\": \"dense\",\n",
       "    \"dimension\": 3,\n",
       "    \"deletion_protection\": \"disabled\",\n",
       "    \"tags\": null\n",
       "}"
      ]
     },
     "execution_count": 5,
     "metadata": {},
     "output_type": "execute_result"
    }
   ],
   "source": [
    "from pinecone import ServerlessSpec\n",
    "pinecone_client.create_index(\n",
    "    name='embedding-3d',\n",
    "    dimension=3,\n",
    "    metric='cosine',\n",
    "    spec=ServerlessSpec(\n",
    "        cloud='aws',\n",
    "        region='us-east-1'\n",
    "    )\n",
    ")"
   ]
  },
  {
   "cell_type": "code",
   "execution_count": 6,
   "id": "10771d33",
   "metadata": {},
   "outputs": [
    {
     "name": "stderr",
     "output_type": "stream",
     "text": [
      "c:\\Users\\Admin\\miniconda3\\envs\\prompting_env\\Lib\\site-packages\\tqdm\\auto.py:21: TqdmWarning: IProgress not found. Please update jupyter and ipywidgets. See https://ipywidgets.readthedocs.io/en/stable/user_install.html\n",
      "  from .autonotebook import tqdm as notebook_tqdm\n"
     ]
    },
    {
     "data": {
      "text/plain": [
       "<pinecone.db_data.index.Index at 0x1e7eb3f6210>"
      ]
     },
     "execution_count": 6,
     "metadata": {},
     "output_type": "execute_result"
    }
   ],
   "source": [
    "index = pinecone_client.Index('embedding-3d')\n",
    "index"
   ]
  },
  {
   "cell_type": "code",
   "execution_count": 14,
   "id": "d598c369",
   "metadata": {},
   "outputs": [
    {
     "data": {
      "text/plain": [
       "{'dimension': 3,\n",
       " 'index_fullness': 0.0,\n",
       " 'metric': 'cosine',\n",
       " 'namespaces': {'embedding-3-ns1': {'vector_count': 6}},\n",
       " 'total_vector_count': 6,\n",
       " 'vector_type': 'dense'}"
      ]
     },
     "execution_count": 14,
     "metadata": {},
     "output_type": "execute_result"
    }
   ],
   "source": [
    "index.describe_index_stats()"
   ]
  },
  {
   "cell_type": "code",
   "execution_count": 17,
   "id": "864cef5e",
   "metadata": {},
   "outputs": [
    {
     "name": "stdout",
     "output_type": "stream",
     "text": [
      "['vec1', 'vec2', 'vec3', 'vec4', 'vec5', 'vec6']\n"
     ]
    }
   ],
   "source": [
    "for ids in index.list(namespace='embedding-3d-ns1'):\n",
    "    print(ids)"
   ]
  },
  {
   "cell_type": "markdown",
   "id": "fd4dbd44",
   "metadata": {},
   "source": [
    "# pinecone data 형식"
   ]
  },
  {
   "cell_type": "code",
   "execution_count": 16,
   "id": "30ca9d54",
   "metadata": {},
   "outputs": [
    {
     "data": {
      "text/plain": [
       "{'upserted_count': 6}"
      ]
     },
     "execution_count": 16,
     "metadata": {},
     "output_type": "execute_result"
    }
   ],
   "source": [
    "index.upsert(\n",
    "    vectors= [\n",
    "        {'id' :'vec1', 'values' :[1.0,1.5,2.0], 'metadata': {'genre':'drama'}},\n",
    "        {'id' :'vec2', 'values' :[2.0,1.5,0.5], 'metadata': {'genre':'action'}},\n",
    "        {'id' :'vec3', 'values' :[0.1,0.3,0.5], 'metadata': {'genre':'drama'}},\n",
    "        {'id' :'vec4', 'values' :[5.0,10.0,5.1], 'metadata': {'genre':'horror'}},\n",
    "        {'id' :'vec5', 'values' :[3.5,2.2,1.1], 'metadata': {'genre':'comedy'}},\n",
    "        {'id' :'vec6', 'values' :[0.5,1.0,1.5], 'metadata': {'genre':'drama'}}\n",
    "    ],\n",
    "    namespace='embedding-3d-ns1'\n",
    ") #update + insert"
   ]
  },
  {
   "cell_type": "markdown",
   "id": "73da9ff6",
   "metadata": {},
   "source": [
    "# query"
   ]
  },
  {
   "cell_type": "code",
   "execution_count": 24,
   "id": "3d363073",
   "metadata": {},
   "outputs": [
    {
     "data": {
      "text/plain": [
       "{'matches': [{'id': 'vec2',\n",
       "              'metadata': {'genre': 'action'},\n",
       "              'score': 0.995270252,\n",
       "              'values': [2.0, 1.5, 0.5]}],\n",
       " 'namespace': 'embedding-3d-ns1',\n",
       " 'usage': {'read_units': 1}}"
      ]
     },
     "execution_count": 24,
     "metadata": {},
     "output_type": "execute_result"
    }
   ],
   "source": [
    "response = index.query(\n",
    "    namespace='embedding-3d-ns1',\n",
    "    vector=[5.0,3.0,1.0],\n",
    "    top_k=3,\n",
    "    include_values=True,\n",
    "    include_metadata=True,\n",
    "    filter={'genre':{'$eq':'action'}}\n",
    ")\n",
    "response"
   ]
  }
 ],
 "metadata": {
  "kernelspec": {
   "display_name": "prompting_env",
   "language": "python",
   "name": "python3"
  },
  "language_info": {
   "codemirror_mode": {
    "name": "ipython",
    "version": 3
   },
   "file_extension": ".py",
   "mimetype": "text/x-python",
   "name": "python",
   "nbconvert_exporter": "python",
   "pygments_lexer": "ipython3",
   "version": "3.12.11"
  }
 },
 "nbformat": 4,
 "nbformat_minor": 5
}
