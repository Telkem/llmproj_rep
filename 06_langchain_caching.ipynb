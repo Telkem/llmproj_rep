{
 "cells": [
  {
   "cell_type": "code",
   "execution_count": 1,
   "id": "d3dd4eaf",
   "metadata": {},
   "outputs": [
    {
     "data": {
      "text/plain": [
       "'0.3.27'"
      ]
     },
     "execution_count": 1,
     "metadata": {},
     "output_type": "execute_result"
    }
   ],
   "source": [
    "import langchain\n",
    "langchain.__version__"
   ]
  },
  {
   "cell_type": "code",
   "execution_count": 2,
   "id": "3a731d4c",
   "metadata": {},
   "outputs": [
    {
     "data": {
      "text/plain": [
       "ChatOpenAI(client=<openai.resources.chat.completions.completions.Completions object at 0x0000013E3AA2C320>, async_client=<openai.resources.chat.completions.completions.AsyncCompletions object at 0x0000013E3AC19490>, root_client=<openai.OpenAI object at 0x0000013E382F2FF0>, root_async_client=<openai.AsyncOpenAI object at 0x0000013E3AA2FA70>, model_name='gpt-4o-mini', model_kwargs={}, openai_api_key=SecretStr('**********'))"
      ]
     },
     "execution_count": 2,
     "metadata": {},
     "output_type": "execute_result"
    }
   ],
   "source": [
    "from langchain_openai import ChatOpenAI\n",
    "llm = ChatOpenAI(model='gpt-4o-mini')\n",
    "llm"
   ]
  },
  {
   "cell_type": "code",
   "execution_count": 3,
   "id": "cec9e01b",
   "metadata": {},
   "outputs": [
    {
     "data": {
      "text/plain": [
       "AIMessage(content='서울에서 대표적인 음식을 맛볼 수 있는 레스토랑 5곳을 추천해드리겠습니다.\\n\\n1. **광화문 미진**\\n   - ***추천 메뉴***: 평양냉면\\n   - 광화문 근처에 위치한 이 식당은 전통 평양냉면으로 유명합니다. 시원한 육수와 쫄깃한 면발이 매력입니다.\\n\\n2. **백리향**\\n   - ***추천 메뉴***: 짜장면, 탕수육\\n   - 중식당이지만 한국식 중화요리를 대표하는 곳입니다. 한국식 짜장면과 탕수육이 특히 맛있습니다.\\n\\n3. **서촌동 한정식**\\n   - ***추천 메뉴***: 한정식\\n   - 전통 한식당으로, 정갈하게 차려진 한정식을 맛볼 수 있습니다. 계절별로 다양한 재료를 활용한 여러 반찬이 특징입니다.\\n\\n4. **부산어묵**\\n   - ***추천 메뉴***: 어묵\\n   - 서울에서 가까운 부산의 맛을 느낄 수 있는 어묵 전문점입니다. 다양한 종류의 어묵과 국물로 많은 사람들에게 사랑받고 있습니다.\\n\\n5. **이태원 부대찌개**\\n   - ***추천 메뉴***: 부대찌개\\n   - 이태원에 위치한 유명한 부대찌개 가게로, 다양한 재료가 들어간 푸짐한 부대찌개를 제공합니다. 깊은 맛과 풍미가 일품입니다.\\n\\n이 외에도 서울에는 맛있는 음식이 많으니, 다양한 장소에서 먹어보시는 것도 좋을 것 같습니다. 즐거운 식사 되세요!', additional_kwargs={'refusal': None}, response_metadata={'token_usage': {'completion_tokens': 372, 'prompt_tokens': 27, 'total_tokens': 399, 'completion_tokens_details': {'accepted_prediction_tokens': 0, 'audio_tokens': 0, 'reasoning_tokens': 0, 'rejected_prediction_tokens': 0}, 'prompt_tokens_details': {'audio_tokens': 0, 'cached_tokens': 0}}, 'model_name': 'gpt-4o-mini-2024-07-18', 'system_fingerprint': 'fp_e665f7564b', 'id': 'chatcmpl-CDL58GpalXrTwZMbeqpD4KuaPe6iG', 'service_tier': 'default', 'finish_reason': 'stop', 'logprobs': None}, id='run--932a7102-aa3c-4c53-8ca3-f0e4eac7db47-0', usage_metadata={'input_tokens': 27, 'output_tokens': 372, 'total_tokens': 399, 'input_token_details': {'audio': 0, 'cache_read': 0}, 'output_token_details': {'audio': 0, 'reasoning': 0}})"
      ]
     },
     "execution_count": 3,
     "metadata": {},
     "output_type": "execute_result"
    }
   ],
   "source": [
    "from langchain_core.messages import HumanMessage\n",
    "message = [\n",
    "    HumanMessage(content = '서울을 대표하는 음식을 맛볼 수 있는 레스토랑 5개를 추천해 주세요')\n",
    "]\n",
    "response = llm.invoke(message)\n",
    "response"
   ]
  },
  {
   "cell_type": "markdown",
   "id": "0a512219",
   "metadata": {},
   "source": [
    "# caching\n",
    "1. inmemorycache\n",
    "2. cache db"
   ]
  },
  {
   "cell_type": "code",
   "execution_count": 4,
   "id": "395cb61e",
   "metadata": {},
   "outputs": [],
   "source": [
    "from langchain_core.globals import set_llm_cache\n",
    "from langchain_core.caches import InMemoryCache\n",
    "\n",
    "set_llm_cache(InMemoryCache())"
   ]
  },
  {
   "cell_type": "code",
   "execution_count": 6,
   "id": "a4fd8abc",
   "metadata": {},
   "outputs": [
    {
     "data": {
      "text/plain": [
       "AIMessage(content='서울에서 대표적인 음식을 맛볼 수 있는 레스토랑 5곳을 추천해 드리겠습니다.\\n\\n1. **광장시장** - 여러 전통 한국 음식을 한 곳에서 맛볼 수 있는 시장으로, 특히 빈대떡과 마늘김치, 순대와 떡볶이를 추천합니다. 다양한 포장마차와 간이식당이 있어 분위기 있는 식사를 즐길 수 있습니다.\\n\\n2. **미진** - 서울 남산에 위치한 이곳은 유명한 냉면 집입니다. 특히 평양냉면이 유명하며, 면발이 쫄깃하고 육수가 깊은 맛을 자랑합니다.\\n\\n3. **토속촌 삼계탕** - 삼계탕의 명소로, 기력 회복에 좋은 한방 삼계탕을 제공합니다. 신선한 재료로 만든 맛있는 삼계탕을 맛볼 수 있습니다.\\n\\n4. **부암동 위스키 바** - 한식을 현대적으로 재해석한 여러 요리를 제공하며, 특히 한정식과 전통주를 함께 즐길 수 있는 곳입니다. 분위기도 매우 좋습니다.\\n\\n5. **삭힌참치** - 서울에서 신선한 해산물을 경험할 수 있는 곳으로, 회와 초밥 같은 일식도 훌륭합니다. 서울에서 유명한 참치 전문점으로, 신선도가 뛰어납니다.\\n\\n이 외에도 서울에는 다양한 음식들이 있으니, 취향에 맞는 음식들을 찾아보세요!', additional_kwargs={'refusal': None}, response_metadata={'token_usage': {'completion_tokens': 323, 'prompt_tokens': 27, 'total_tokens': 350, 'completion_tokens_details': {'accepted_prediction_tokens': 0, 'audio_tokens': 0, 'reasoning_tokens': 0, 'rejected_prediction_tokens': 0}, 'prompt_tokens_details': {'audio_tokens': 0, 'cached_tokens': 0}}, 'model_name': 'gpt-4o-mini-2024-07-18', 'system_fingerprint': 'fp_8bda4d3a2c', 'id': 'chatcmpl-CDL8qqNERAErKrxGhvvOaKC5lCpKk', 'service_tier': 'default', 'finish_reason': 'stop', 'logprobs': None}, id='run--df0c4225-0eb3-44fc-b483-c803ff8d111c-0', usage_metadata={'input_tokens': 27, 'output_tokens': 323, 'total_tokens': 350, 'input_token_details': {'audio': 0, 'cache_read': 0}, 'output_token_details': {'audio': 0, 'reasoning': 0}, 'total_cost': 0})"
      ]
     },
     "execution_count": 6,
     "metadata": {},
     "output_type": "execute_result"
    }
   ],
   "source": [
    "response = llm.invoke(message) #캐시전 4.9s\n",
    "response"
   ]
  },
  {
   "cell_type": "code",
   "execution_count": 7,
   "id": "d3dab2f6",
   "metadata": {},
   "outputs": [
    {
     "data": {
      "text/plain": [
       "ChatOpenAI(cache=False, client=<openai.resources.chat.completions.completions.Completions object at 0x0000013E3AFC4F20>, async_client=<openai.resources.chat.completions.completions.AsyncCompletions object at 0x0000013E3AF4B6B0>, root_client=<openai.OpenAI object at 0x0000013E3AFACAA0>, root_async_client=<openai.AsyncOpenAI object at 0x0000013E3AF49100>, model_name='gpt-4o-mini', model_kwargs={}, openai_api_key=SecretStr('**********'))"
      ]
     },
     "execution_count": 7,
     "metadata": {},
     "output_type": "execute_result"
    }
   ],
   "source": [
    "llm1 = ChatOpenAI(model='gpt-4o-mini', cache=False)\n",
    "llm1"
   ]
  },
  {
   "cell_type": "markdown",
   "id": "486ca4fe",
   "metadata": {},
   "source": [
    "# message가 동일해야 한다. 처음 실행시 캐싱한다."
   ]
  },
  {
   "cell_type": "code",
   "execution_count": 8,
   "id": "3656fd0b",
   "metadata": {},
   "outputs": [
    {
     "name": "stdout",
     "output_type": "stream",
     "text": [
      "Collecting redis\n",
      "  Downloading redis-6.4.0-py3-none-any.whl.metadata (10 kB)\n",
      "Downloading redis-6.4.0-py3-none-any.whl (279 kB)\n",
      "Installing collected packages: redis\n",
      "Successfully installed redis-6.4.0\n"
     ]
    }
   ],
   "source": [
    "!pip install redis"
   ]
  },
  {
   "cell_type": "code",
   "execution_count": 18,
   "id": "808057e2",
   "metadata": {},
   "outputs": [],
   "source": [
    "from dotenv import load_dotenv\n",
    "import os\n",
    "\n",
    "load_dotenv()\n",
    "password = os.getenv(\"REDIS_PASSWORD\")"
   ]
  },
  {
   "cell_type": "code",
   "execution_count": 19,
   "id": "55f8f9b4",
   "metadata": {},
   "outputs": [],
   "source": [
    "\"\"\"Basic connection example.\n",
    "\"\"\"\n",
    "\n",
    "import redis\n",
    "\n",
    "r = redis.Redis(\n",
    "    host='redis-14093.c340.ap-northeast-2-1.ec2.redns.redis-cloud.com',\n",
    "    port=14093,\n",
    "    decode_responses=True,\n",
    "    username=\"default\",\n",
    "    password=password,\n",
    ")\n",
    "\n",
    "success = r.set('foo', 'bar')\n",
    "# True\n",
    "\n",
    "\n"
   ]
  },
  {
   "cell_type": "code",
   "execution_count": 20,
   "id": "c3cd1bb5",
   "metadata": {},
   "outputs": [
    {
     "name": "stdout",
     "output_type": "stream",
     "text": [
      "bar\n"
     ]
    }
   ],
   "source": [
    "result = r.get('foo')\n",
    "print(result)\n",
    "# >>> bar\n"
   ]
  },
  {
   "cell_type": "code",
   "execution_count": null,
   "id": "325fe117",
   "metadata": {},
   "outputs": [],
   "source": [
    "from langchain_community.cache import RedisCache\n",
    "from redis import Redis\n",
    "set_llm_cache(RedisCache(\n",
    "    redis_=Redis(\n",
    "        host='redis-14093.c340.ap-northeast-2-1.ec2.redns.redis-cloud.com',\n",
    "        port=14093,\n",
    "        password=password\n",
    "    )\n",
    "))"
   ]
  },
  {
   "cell_type": "code",
   "execution_count": 16,
   "id": "b2c7fc41",
   "metadata": {},
   "outputs": [
    {
     "data": {
      "text/plain": [
       "AIMessage(content='서울에서 대표적인 한국 음식을 맛볼 수 있는 레스토랑 5곳을 추천해드릴게요.\\n\\n1. **광장시장 (Gwangjang Market)**  \\n   전통 시장에서 다양한 한국 음식을 한 곳에서 경험할 수 있습니다. 특히 빈대떡, 통문어, 김밥 등 다양한 길거리 음식을 맛볼 수 있습니다.\\n\\n2. **토속촌 삼계탕 (Tosokchon Samgyetang)**  \\n   삼계탕의 명소로 유명합니다. 찹쌀과 한방재료로 만든 닭 백숙을 전문으로 하며, 깊고 풍부한 국물 맛이 일품입니다.\\n\\n3. **명동교자 (Myeongdong Kyoja)**  \\n   칼국수 전문점으로 유명하며, 직접 만든 면과 고기 만두가 유명합니다. 따뜻한 국물과 쫄깃한 면발을 맛볼 수 있습니다.\\n\\n4. **한남동 일미식당 (Ilmi Sikdang)**  \\n   한국 전통 반상 요리를 전문으로 하는 곳으로, 여러 가지 반찬과 함께 밥, 국을 제공합니다. 정갈한 한식의 매력을 느낄 수 있습니다.\\n\\n5. **부산아지매 국밥 (Busan Ajimae Gukbap)**  \\n   부산의 대표 음식인 돼지국밥을 맛볼 수 있는 곳입니다. 진한 국물과 부드러운 고기의 조화가 일품입니다.\\n\\n이 레스토랑들은 각각의 특색이 있으니, 방문하셔서 맛있는 음식을 즐겨보세요!', additional_kwargs={'refusal': None}, response_metadata={'token_usage': {'completion_tokens': 348, 'prompt_tokens': 27, 'total_tokens': 375, 'completion_tokens_details': {'accepted_prediction_tokens': 0, 'audio_tokens': 0, 'reasoning_tokens': 0, 'rejected_prediction_tokens': 0}, 'prompt_tokens_details': {'audio_tokens': 0, 'cached_tokens': 0}}, 'model_name': 'gpt-4o-mini-2024-07-18', 'system_fingerprint': 'fp_8bda4d3a2c', 'id': 'chatcmpl-CDLkyqNWc52F5xYkw144FYbOyZwpf', 'service_tier': 'default', 'finish_reason': 'stop', 'logprobs': None}, id='run--35e66264-915b-4736-b444-3dbf4c413a74-0', usage_metadata={'input_tokens': 27, 'output_tokens': 348, 'total_tokens': 375, 'input_token_details': {'audio': 0, 'cache_read': 0}, 'output_token_details': {'audio': 0, 'reasoning': 0}, 'total_cost': 0})"
      ]
     },
     "execution_count": 16,
     "metadata": {},
     "output_type": "execute_result"
    }
   ],
   "source": [
    "response = llm.invoke(message)\n",
    "response"
   ]
  }
 ],
 "metadata": {
  "kernelspec": {
   "display_name": "prompting_env",
   "language": "python",
   "name": "python3"
  },
  "language_info": {
   "codemirror_mode": {
    "name": "ipython",
    "version": 3
   },
   "file_extension": ".py",
   "mimetype": "text/x-python",
   "name": "python",
   "nbconvert_exporter": "python",
   "pygments_lexer": "ipython3",
   "version": "3.12.11"
  }
 },
 "nbformat": 4,
 "nbformat_minor": 5
}
