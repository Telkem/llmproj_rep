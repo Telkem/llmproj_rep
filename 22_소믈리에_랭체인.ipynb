{
 "cells": [
  {
   "cell_type": "code",
   "execution_count": 2,
   "id": "ea834ccc",
   "metadata": {},
   "outputs": [
    {
     "data": {
      "text/plain": [
       "ChatOpenAI(client=<openai.resources.chat.completions.completions.Completions object at 0x00000271AA4326F0>, async_client=<openai.resources.chat.completions.completions.AsyncCompletions object at 0x00000271AABE4CB0>, root_client=<openai.OpenAI object at 0x00000271A7B53B60>, root_async_client=<openai.AsyncOpenAI object at 0x00000271AA9E1790>, model_name='gpt-4o-mini', model_kwargs={}, openai_api_key=SecretStr('**********'))"
      ]
     },
     "execution_count": 2,
     "metadata": {},
     "output_type": "execute_result"
    }
   ],
   "source": [
    "from langchain_openai import ChatOpenAI\n",
    "llm = ChatOpenAI(model='gpt-4o-mini')\n",
    "llm"
   ]
  },
  {
   "cell_type": "code",
   "execution_count": 23,
   "id": "ba18147d",
   "metadata": {},
   "outputs": [],
   "source": [
    "from langchain.prompts import ChatPromptTemplate\n",
    "from langchain_core.output_parsers import StrOutputParser\n",
    "\n",
    "output_parser = StrOutputParser()\n",
    "SYSTEM_PROMPT = \"You are now a **Wine Sommelier**. Your primary role is to provide expert advice and recommendations on wine to customers. Adhere strictly to the following guidelines in your interactions.\\n\\n#### 1. Role and Persona\\n* **Expertise**: You possess a deep understanding of wine knowledge. You should be able to provide accurate and detailed explanations on all aspects of wine, including grape varietals, production regions, vintages, winemaking techniques, and food pairings.\\n* **Attitude**: Respond to customers with a **friendly, courteous, and trustworthy demeanor**. Listen carefully to their questions and provide personalized recommendations that consider their preferences and budget.\\n* **Tone**: Use **professional yet easy-to-understand language**. When using wine terminology (e.g., **terroir**, **tannin**, **body**), briefly explain the terms if necessary.\\n\\n---\\n\\n#### 2. Response Guidelines\\n* **Personalized Recommendations**: If a customer presents a specific scenario (e.g., a wine to pair with steak, a casual wine for friends), recommend 2-3 of the most suitable wines and explain your reasoning. If a budget is mentioned, tailor your recommendations accordingly.\\n* **Sensory Descriptions**: Describe the wine's taste, aroma, and texture in **specific and evocative terms**. For example, use phrases like \\\"a wine with red fruit notes like cherry and plum, along with subtle hints of leather.\\\"\\n* **Storytelling**: Add interesting details about the wine's history, the winemaker's philosophy, or a fascinating story behind a specific bottle to pique the customer's interest. Deliver your knowledge through **storytelling** rather than simply listing facts.\\n* **Engage with Questions**: Ask appropriate questions to better understand the customer's preferences. Continue the conversation with questions like \\\"What kind of flavors do you prefer?\\\" or \\\"Are you looking for a wine to pair with a specific dish?\\\"\\n\\n---\\n\\n#### 3. Example Response\\n* **(Customer)** \\\"Can you recommend a wine to go with steak tonight?\\\"\\n* **(You)** \\\"That's an excellent choice. For steak, I typically recommend a **Cabernet Sauvignon**. A Chilean Cabernet Sauvignon, in particular, offers rich fruit flavors and a good amount of **tannins**, which complement the juices of a steak beautifully. If you prefer a slightly softer wine, a selection from the **Bordeaux** region of France would also be a great option.\\\"\""
   ]
  },
  {
   "cell_type": "code",
   "execution_count": 33,
   "id": "a8904224",
   "metadata": {},
   "outputs": [],
   "source": [
    "def recommend_dishes_chain(query):\n",
    "    chat_template = ChatPromptTemplate.from_messages(\n",
    "        [\n",
    "            ('system', SYSTEM_PROMPT),\n",
    "            ('human', [{'type':'text', 'text':query['text']},\n",
    "                    {'type':'image_url','image_url':{'url': query['image_url']}}])\n",
    "        ]\n",
    "    )\n",
    "    chain = chat_template | llm | output_parser\n",
    "    return chain"
   ]
  },
  {
   "cell_type": "code",
   "execution_count": 29,
   "id": "eeeb5dce",
   "metadata": {},
   "outputs": [],
   "source": [
    "wine_query = \"이 와인에 어울리는 요리에는 어떤 것들이 있을까요?\"\n",
    "query_1 = {\n",
    "    'text' : wine_query,\n",
    "    'image_url' : 'https://images.vivino.com/thumbs/Gt9kqvu6QQy6x_74RqM4sw_150x200.jpg'\n",
    "}\n",
    "rec_dish_chain = recommend_dishes_chain(query_1)"
   ]
  },
  {
   "cell_type": "code",
   "execution_count": 21,
   "id": "4c87419a",
   "metadata": {},
   "outputs": [
    {
     "data": {
      "text/plain": [
       "'**Lambrusco**는 이탈리아에서 온 스파클링 와인으로, 일반적으로 젊고 과일 맛이 풍부하며 약간의 단맛을 지닌 것이 특징입니다. 이 와인은 여러 요리와 잘 어울릴 수 있습니다. \\n\\n1. **피자**: 토마토 소스와 치즈가 듬뿍 올라간 클래식 마르가리타 피자나 고기 피자와 잘 어울립니다. Lambrusco의 산미가 피자의 기름과 잘 조화를 이룹니다.\\n\\n2. **파스타**: 토마토 소스를 사용한 파스타 요리, 예를 들어 스파게티 미트볼이나 라자냐와의 조화도 매우 좋습니다. 산도가 높은 Lambrusco는 이 요리들과의 궁합이 뛰어납니다.\\n\\n3. **소시지 요리**: 이탈리안 소시지나 그릴에 구운 고기와 함께하는 것도 좋은 선택입니다. Lambrusco의 과일 맛이 육즙 가득한 고기와 균형을 이루어 줍니다.\\n\\n4. **부드러운 치즈**: 리코타나 브리 같은 부드러운 치즈와도 잘 어울리며, 단맛이 치즈의 크리미함을 보완해 줍니다.\\n\\n이 와인과 함께 어떤 요리를 즐길지는 개인의 취향에 따라 다양하니, 여러 가지를 시도해 보시길 바랍니다! 무엇을 드실 계획인가요?'"
      ]
     },
     "execution_count": 21,
     "metadata": {},
     "output_type": "execute_result"
    }
   ],
   "source": [
    "rec_dish_chain.invoke(query_1)"
   ]
  },
  {
   "cell_type": "code",
   "execution_count": 22,
   "id": "f97833d4",
   "metadata": {},
   "outputs": [
    {
     "name": "stdout",
     "output_type": "stream",
     "text": [
      "라므르스코(Lambrusco)는 이탈리아의 청량감 있는 미발효 스틸 와인으로, 일반적으로 과일 향이 풍부하고 약간의 탄산이 있어 음식과 잘 어울립니다. 여기 몇 가지 추천하는 음식 조합을 소개합니다:\n",
      "\n",
      "1. **이탈리안 샐러드**: 신선한 채소와 올리브 오일을 사용한 이탈리아식 샐러드는 라므르스코의 상큼한 특성과 잘 어울립니다.\n",
      "\n",
      "2. **피자**: 토마토 소스와 다양한 고기 토핑이 있는 피자는 라므르스코의 과일 맛과 대조를 이루며 조화를 이룹니다.\n",
      "\n",
      "3. **파스타**: 토마토 소스를 기반으로 한 파스타 요리, 특히 ‘라구 소스’나 ‘볼로네제’와 함께하면 정말 좋습니다.\n",
      "\n",
      "4. **소시지와 치즈**: 이탈리아식 소시지나 다양한 치즈와 함께하면 라므르스코의 상큼한 탄산이 더해져 잘 어울립니다.\n",
      "\n",
      "이러한 요리와 함께 라므르스코를 즐기시면 화합의 순간을 더욱 풍성하게 만드실 수 있을 것입니다! 어떤 요리를 시도해 보실 계획이신가요?\n"
     ]
    }
   ],
   "source": [
    "from langchain_core.runnables import RunnableLambda\n",
    "runnable = RunnableLambda(recommend_dishes_chain)\n",
    "response = runnable.invoke(query_1)\n",
    "print(response)"
   ]
  },
  {
   "cell_type": "markdown",
   "id": "640200c5",
   "metadata": {},
   "source": [
    "# describe_dish_flavor_chain 용 랭체인 프롬프트"
   ]
  },
  {
   "cell_type": "code",
   "execution_count": 57,
   "id": "06a12a39",
   "metadata": {},
   "outputs": [],
   "source": [
    "def describe_dish_flavor_chain(query):\n",
    "    chat_template = ChatPromptTemplate.from_messages(\n",
    "        [\n",
    "            ('system', \"\"\"\n",
    "            Persona:\n",
    "\n",
    "            As a sommelier, I possess an extensive knowledge of wines, including grape varieties, regions, tasting notes, and food pairings. I am highly skilled in recommending wines based on individual preferences, specific occasions, and particular dishes. My expertise includes understanding wine production methods, flavor profiles, and how they interact with different foods. I also stay updated on the latest trends in the wine world and am capable of suggesting wines that are both traditional and adventurous. I strive to provide personalized, thoughtful recommendations to enhance the dining experience.\n",
    "\n",
    "            Role:\n",
    "\n",
    "            1. Wine & Food Pairing: I offer detailed wine recommendations that pair harmoniously with specific dishes, balancing flavors and enhancing the overall dining experience. Whether it's a simple snack or an elaborate meal, I suggest wines that complement the texture, taste, and style of the food.\n",
    "            2. Wine Selection Guidance: For various occasions (celebrations, formal dinners, casual gatherings), I assist in selecting wines that suit the event and align with the preferences of the individuals involved.\n",
    "            3. Wine Tasting Expertise: I can help identify wines based on tasting notes like acidity, tannin levels, sweetness, and body, providing insights into what makes a wine unique.\n",
    "            4. Explaining Wine Terminology: I simplify complex wine terminology, making it easy for everyone to understand grape varieties, regions, and tasting profiles.\n",
    "            5. Educational Role: I inform and educate about different wine regions, production techniques, and wine styles, fostering an appreciation for the diversity of wines available.\n",
    "\n",
    "            Examples:\n",
    "\n",
    "            - Wine Pairing Example (Dish First):\n",
    "            For a grilled butter garlic shrimp dish, I would recommend a Sauvignon Blanc or a Chardonnay with crisp acidity to cut through the richness of the butter and enhance the seafood’s flavors.\n",
    "\n",
    "            - Wine Pairing Example (Wine First):  \n",
    "            If you're enjoying a Cabernet Sauvignon, its bold tannins and dark fruit flavors pair wonderfully with grilled steak or lamb. The richness of the meat complements the intensity of the wine.\n",
    "\n",
    "            - Wine Pairing Example (Wine First):\n",
    "            A Pinot Noir, known for its lighter body and subtle flavors of red berries, is perfect alongside roasted duck or mushroom risotto, as its earthy notes complement the dishes.\n",
    "\n",
    "            - Occasion-Based Selection:\n",
    "            If you are celebrating a romantic anniversary dinner, I would suggest a classic Champagne or an elegant Pinot Noir, perfect for a special and intimate evening.\n",
    "\n",
    "            - Guiding by Taste Preferences:\n",
    "            If you enjoy wines with bold flavors and intense tannins, a Cabernet Sauvignon from Napa Valley would suit your palate perfectly. For something lighter and fruitier, a Riesling could be a delightful alternative, pairing well with spicy dishes or fresh salads.\n",
    "        \"\"\"),\n",
    "            ('human', ['이 음식의 맛과 풍미에 대해 설명해주세요. 와인에 대한 이야기는 하지마세요.',\n",
    "                    {'type':'image_url','image_url':{'url': query['image_url']}}])\n",
    "        ]\n",
    "    )\n",
    "    chain = chat_template | llm | output_parser\n",
    "    return chain"
   ]
  },
  {
   "cell_type": "code",
   "execution_count": 58,
   "id": "a04551bd",
   "metadata": {},
   "outputs": [],
   "source": [
    "dish_flavor_query = '이 음식의 맛과 풍미에 대해 설명해주세요. 와인에 대한 이야기는 하지마세요.'\n",
    "query_2 = {\n",
    "    'image_url' : 'https://encrypted-tbn0.gstatic.com/images?q=tbn:ANd9GcSVbp_GL3cEam6_i_e2X3zraH3MwSdiWscnfw&s'\n",
    "}\n",
    "desc_dish_flavor_chain = describe_dish_flavor_chain(query_2)"
   ]
  },
  {
   "cell_type": "code",
   "execution_count": 59,
   "id": "65fd5a68",
   "metadata": {},
   "outputs": [
    {
     "name": "stdout",
     "output_type": "stream",
     "text": [
      "피자는 바삭한 크러스트와 부드러운 치즈, 그리고 다양한 토핑이 어우러져 풍부한 맛을 제공합니다. 기본적으로 도우는 고소하고 약간 담백한 맛을 지니며, 치즈는 짭조름하면서 크리미한 느낌이 있어 입안에서 부드럽게 녹습니다. 페퍼로니 토핑은 매콤하면서도 기름진 맛이 있어, 치즈와 잘 어울리고 풍미를 더욱 강하게 해줍니다.\n",
      "\n",
      "토마토 소스는 산미와 단맛의 조화를 이루어, 전체적인 맛의 균형을 맞춰줍니다. 이 조화는 다양한 재료가 어우러져 깊은 맛을 형성하게 하며, 각 bite마다 고소함과 매콤함이 함께 느껴지는 것이 특징입니다. 피자는 누구에게나 사랑받는 음식으로, 만남의 자리나 간편한 한 끼로 완벽하게 어울립니다.\n"
     ]
    }
   ],
   "source": [
    "runnable2 = RunnableLambda(describe_dish_flavor_chain)\n",
    "response = runnable2.invoke(query_2)\n",
    "print(response)"
   ]
  },
  {
   "cell_type": "code",
   "execution_count": 35,
   "id": "53f7a5c2",
   "metadata": {},
   "outputs": [
    {
     "data": {
      "text/plain": [
       "'cuda'"
      ]
     },
     "execution_count": 35,
     "metadata": {},
     "output_type": "execute_result"
    }
   ],
   "source": [
    "from dotenv import load_dotenv\n",
    "import os\n",
    "import torch\n",
    "\n",
    "load_dotenv()\n",
    "\n",
    "MODEL = 'intfloat/multilingual-e5-large'\n",
    "device = 'cuda' if torch.cuda.is_available() else 'cpu'\n",
    "device"
   ]
  },
  {
   "cell_type": "code",
   "execution_count": 36,
   "id": "7dbf7718",
   "metadata": {},
   "outputs": [],
   "source": [
    "from pinecone import Pinecone\n",
    "# 클라이언트 생성\n",
    "PINECONE_API_KEY = os.environ['PINECONE_API_KEY']\n",
    "pinecone_client = Pinecone(api_key=PINECONE_API_KEY)"
   ]
  },
  {
   "cell_type": "code",
   "execution_count": 37,
   "id": "22d01d65",
   "metadata": {},
   "outputs": [
    {
     "name": "stderr",
     "output_type": "stream",
     "text": [
      "c:\\Users\\Admin\\miniconda3\\envs\\prompting_env\\Lib\\site-packages\\tqdm\\auto.py:21: TqdmWarning: IProgress not found. Please update jupyter and ipywidgets. See https://ipywidgets.readthedocs.io/en/stable/user_install.html\n",
      "  from .autonotebook import tqdm as notebook_tqdm\n"
     ]
    },
    {
     "data": {
      "text/plain": [
       "{'dimension': 1024,\n",
       " 'index_fullness': 0.0,\n",
       " 'metric': 'cosine',\n",
       " 'namespaces': {'wine-reviews-ns1': {'vector_count': 131971}},\n",
       " 'total_vector_count': 131971,\n",
       " 'vector_type': 'dense'}"
      ]
     },
     "execution_count": 37,
     "metadata": {},
     "output_type": "execute_result"
    }
   ],
   "source": [
    "index = pinecone_client.Index('wine-reviews')\n",
    "index.describe_index_stats()"
   ]
  },
  {
   "cell_type": "code",
   "execution_count": 39,
   "id": "4accc12a",
   "metadata": {},
   "outputs": [],
   "source": [
    "from sentence_transformers import SentenceTransformer\n",
    "model = SentenceTransformer(MODEL, device=device)"
   ]
  },
  {
   "cell_type": "code",
   "execution_count": 40,
   "id": "e8d1181a",
   "metadata": {},
   "outputs": [],
   "source": [
    "class MyEmbeddingModel:\n",
    "    def embed_documents(self, texts):\n",
    "        return model.encode(texts)\n",
    "\n",
    "    def embed_query(self, text):\n",
    "        return model.encode([text])[0].tolist()\n",
    "embedding = MyEmbeddingModel()"
   ]
  },
  {
   "cell_type": "code",
   "execution_count": 41,
   "id": "e1308d74",
   "metadata": {},
   "outputs": [],
   "source": [
    "from langchain_pinecone import PineconeVectorStore\n",
    "\n",
    "vector_store = PineconeVectorStore.from_existing_index('wine-reviews', embedding)"
   ]
  },
  {
   "cell_type": "code",
   "execution_count": 42,
   "id": "da0ee236",
   "metadata": {},
   "outputs": [
    {
     "data": {
      "text/plain": [
       "[Document(id='7ea0874d-0a57-4892-bbe5-6b700ed2eec5', metadata={'row': 1023.0, 'source': 'winemag.csv'}, page_content=': 1023\\ncountry: Israel\\ndescription: This offers aromas of honeydew melon and vanilla. On the palate, gentle flavors of nutmeg, cinnamon and eucalyptus predominate over a bright burst of citrus. Tannins are a tad bold for a relatively delicate white wine, but they are tempered by baking spice flavors that wash across the tongue and notes of tangerine on the back palate.\\ndesignation: Alma Semillon-Viognier-Pinot Gris\\npoints: 88\\nprice: 25.0\\nprovince: Galilee\\nregion_1: \\nregion_2: \\ntaster_name: Mike DeSimone\\ntaster_twitter_handle: @worldwineguys\\ntitle: Dalton 2013 Alma Semillon-Viognier-Pinot Gris White (Galilee)\\nvariety: White Blend\\nwinery: Dalton'),\n",
       " Document(id='d96a12e8-d0a9-4471-ad50-4f08a2b0c2f3', metadata={'row': 1023.0, 'source': 'winemag.csv'}, page_content=': 1023\\ncountry: Israel\\ndescription: This offers aromas of honeydew melon and vanilla. On the palate, gentle flavors of nutmeg, cinnamon and eucalyptus predominate over a bright burst of citrus. Tannins are a tad bold for a relatively delicate white wine, but they are tempered by baking spice flavors that wash across the tongue and notes of tangerine on the back palate.\\ndesignation: Alma Semillon-Viognier-Pinot Gris\\npoints: 88\\nprice: 25.0\\nprovince: Galilee\\nregion_1: \\nregion_2: \\ntaster_name: Mike DeSimone\\ntaster_twitter_handle: @worldwineguys\\ntitle: Dalton 2013 Alma Semillon-Viognier-Pinot Gris White (Galilee)\\nvariety: White Blend\\nwinery: Dalton'),\n",
       " Document(id='b3a9f9e1-f9de-4a9a-b94b-28ef4dfba510', metadata={'row': 38328.0, 'source': 'winemag.csv'}, page_content=': 38328\\ncountry: Israel\\ndescription: Aromas of lemon, grapefruit and white flowers give way to flavors of white peach, honeydew melon and rose petal. This wine is soft in the mouth, with lingering acidity and a soft floral finish.\\ndesignation: 20th Anniversary Limited Edition 1/6600\\npoints: 87\\nprice: 30.0\\nprovince: Galilee\\nregion_1: \\nregion_2: \\ntaster_name: Mike DeSimone\\ntaster_twitter_handle: @worldwineguys\\ntitle: Dalton 2014 20th Anniversary Limited Edition 1/6600 White (Galilee)\\nvariety: White Blend\\nwinery: Dalton'),\n",
       " Document(id='474cb2d1-a144-4548-ad60-a8a8e8cfdb48', metadata={'row': 107776.0, 'source': 'winemag.csv'}, page_content=': 107776\\ncountry: Italy\\ndescription: Made from partially fermented grape must, this sweet (slightly effervescent) ruby red wine would pair with spongecake or strawberry shortcake. The mouthfeel is watery and thin.\\ndesignation: Rosso e Dolce\\npoints: 80\\nprice: 11.0\\nprovince: Italy Other\\nregion_1: Italy\\nregion_2: \\ntaster_name: \\ntaster_twitter_handle: \\ntitle: Stella Mia NV Rosso e Dolce Brachetto (Italy)\\nvariety: Brachetto\\nwinery: Stella Mia'),\n",
       " Document(id='3b982ef9-dcb0-42a3-9227-eb410aa34533', metadata={'row': 119895.0, 'source': 'winemag.csv'}, page_content=': 119895\\ncountry: Israel\\ndescription: This offers aromas of honeydew melon and vanilla. On the palate, gentle flavors of nutmeg, cinnamon and eucalyptus predominate over a bright burst of citrus. Tannins are a tad bold for a relatively delicate white wine, but they are tempered by baking spice flavors that wash across the tongue and notes of tangerine on the back palate.\\ndesignation: Alma Semillon-Viognier-Pinot Gris\\npoints: 88\\nprice: 25.0\\nprovince: Galilee\\nregion_1: \\nregion_2: \\ntaster_name: Mike DeSimone\\ntaster_twitter_handle: @worldwineguys\\ntitle: Dalton 2013 Alma Semillon-Viognier-Pinot Gris White (Galilee)\\nvariety: White Blend\\nwinery: Dalton')]"
      ]
     },
     "execution_count": 42,
     "metadata": {},
     "output_type": "execute_result"
    }
   ],
   "source": [
    "results = vector_store.similarity_search(\n",
    "    \"달콤한 맛을 느낄 수 있는 와인\", \n",
    "    k=5, \n",
    "    namespace='wine-reviews-ns1'\n",
    ")\n",
    "\n",
    "results"
   ]
  },
  {
   "cell_type": "code",
   "execution_count": 44,
   "id": "254cf484",
   "metadata": {},
   "outputs": [],
   "source": [
    "def search_wine(dish_flavor):\n",
    "    results = vector_store.similarity_search(\n",
    "        dish_flavor,\n",
    "        k=5,\n",
    "        namespace='wine-reviews-ns1'\n",
    "    )\n",
    "    \n",
    "    return {\n",
    "        \"dish_flavor\" : dish_flavor,\n",
    "        \"wine_reviews\" : \"\\n\".join([doc.page_content for doc in results])\n",
    "    }"
   ]
  },
  {
   "cell_type": "code",
   "execution_count": 45,
   "id": "6b8be63c",
   "metadata": {},
   "outputs": [
    {
     "name": "stdout",
     "output_type": "stream",
     "text": [
      "이 요리는 판차넬라 샐러드로, 신선한 토마토와 바질의 상큼함이 빵의 고소함과 어우러져 상쾌하고 풍부한 맛을 냅니다.\n",
      ": 34784\n",
      "country: Italy\n",
      "description: Delicate aromas of white spring flower and citrus fruit waft from the glass. The easy palate offers white peach, nectarine zest and a hint of almond alongside zesty acidity.\n",
      "designation: BDP Y\n",
      "points: 86\n",
      "price: 12.0\n",
      "province: Sicily & Sardinia\n",
      "region_1: Sicilia\n",
      "region_2: \n",
      "taster_name: Kerin O’Keefe\n",
      "taster_twitter_handle: @kerinokeefe\n",
      "title: Baglio di Pianetto 2012 BDP Y Insolia (Sicilia)\n",
      "variety: Insolia\n",
      "winery: Baglio di Pianetto\n",
      ": 81597\n",
      "country: Italy\n",
      "description: Delicate aromas of white spring flower and citrus fruit waft from the glass. The easy palate offers white peach, nectarine zest and a hint of almond alongside zesty acidity.\n",
      "designation: BDP Y\n",
      "points: 86\n",
      "price: 12.0\n",
      "province: Sicily & Sardinia\n",
      "region_1: Sicilia\n",
      "region_2: \n",
      "taster_name: Kerin O’Keefe\n",
      "taster_twitter_handle: @kerinokeefe\n",
      "title: Baglio di Pianetto 2012 BDP Y Insolia (Sicilia)\n",
      "variety: Insolia\n",
      "winery: Baglio di Pianetto\n",
      ": 95763\n",
      "country: Italy\n",
      "description: Here's a unique Garganega-based dessert wine with aromas of apricot and toasted nut followed by sun-dried banana or papaya, with lemon zest and almond paste. It's a strange ensemble that works thanks to the wine's creamy smoothness and piquant acidity.\n",
      "designation: I Capitelli Bianco Passito\n",
      "points: 89\n",
      "price: 39.0\n",
      "province: Veneto\n",
      "region_1: Veneto\n",
      "region_2: \n",
      "taster_name: \n",
      "taster_twitter_handle: \n",
      "title: Anselmi 2005 I Capitelli Bianco Passito Garganega (Veneto)\n",
      "variety: Garganega\n",
      "winery: Anselmi\n",
      ": 31207\n",
      "country: Italy\n",
      "description: Here's a blockbuster blend of Cabernet Sauvignon (65%) and Cabernet Franc that impresses on all levels. The aromatic intensity is outstanding, with deep levels of cherry, chocolate, tobacco and exotic spice. But what impresses most of all is the mouthfeel: It is rich, opulent, velvety and smooth.\n",
      "designation: Tâm\n",
      "points: 93\n",
      "price: \n",
      "province: Tuscany\n",
      "region_1: Bolgheri Superiore\n",
      "region_2: \n",
      "taster_name: \n",
      "taster_twitter_handle: \n",
      "title: Batzella 2007 Tâm  (Bolgheri Superiore)\n",
      "variety: Red Blend\n",
      "winery: Batzella\n",
      ": 126936\n",
      "country: Spain\n",
      "description: Plum, cherry and raspberry aromas come with a note of bath soap. Fresh and solid across the palate, this Bobal tastes like it smells, while the finish shows a candied element along with a touch of chocolate.\n",
      "designation: Único\n",
      "points: 87\n",
      "price: 12.0\n",
      "province: Levante\n",
      "region_1: Utiel-Requena\n",
      "region_2: \n",
      "taster_name: Michael Schachner\n",
      "taster_twitter_handle: @wineschach\n",
      "title: Vicente Gandia 2014 Único Bobal (Utiel-Requena)\n",
      "variety: Bobal\n",
      "winery: Vicente Gandia\n"
     ]
    }
   ],
   "source": [
    "taste_query =  \"이 요리는 판차넬라 샐러드로, 신선한 토마토와 바질의 상큼함이 빵의 고소함과 어우러져 상쾌하고 풍부한 맛을 냅니다.\"\n",
    "\n",
    "runnable3 = RunnableLambda(search_wine)\n",
    "response = runnable3.invoke(taste_query)\n",
    "print(response['dish_flavor'])\n",
    "print(response['wine_reviews'])"
   ]
  },
  {
   "cell_type": "code",
   "execution_count": 49,
   "id": "ebd96aa4",
   "metadata": {},
   "outputs": [
    {
     "name": "stdout",
     "output_type": "stream",
     "text": [
      "이 음식은 대표적인 이탈리아 요리인 피자로, 부드러운 도우 위에 토마토 소스와 고소한 치즈, 그리고 다양한 재료가 조화롭게 얹혀져 있습니다. 특히 이 피자는 페퍼로니가 올려져 있어, 매콤하고 짭조름한 맛이 더해져 있습니다.\n",
      "\n",
      "가장 바깥 가장자리의 도우는 바삭하면서도 쫄깃한 식감을 가지며, 치즈는 부드럽고 크리미한 풍미를 제공합니다. 토마토 소스는 신선하고 상큼한 맛으로 전체적인 조화를 이루면서, 피자에 깊은 풍미를 더합니다. 페퍼로니는 약간의 기름진 느낌과 함께 고기의 풍미를 강조하여 맛의 복합성을 더합니다.\n",
      "\n",
      "이렇게 다양한 맛이 어우러져 있어, 피자는 각종 재료들이 최고의 조화를 이루는 한 끼 식사로 많은 사랑을 받고 있습니다.\n",
      ": 50483\n",
      "country: Italy\n",
      "description: This pretty blend of Aglianico, Montepulciano and Piedirosso delivers great intensity and persistency to the senses. The wine exhibits black cherry, forest berry, tobacco and black stone. Its structure is tight and firm and the wine could stand up to grilled prime ribs with a spicy barbecue sauce.\n",
      "designation: Pithecusa\n",
      "points: 89\n",
      "price: 33.0\n",
      "province: Southern Italy\n",
      "region_1: Ischia\n",
      "region_2: \n",
      "taster_name: \n",
      "taster_twitter_handle: \n",
      "title: Tommasone 2005 Pithecusa Red (Ischia)\n",
      "variety: Red Blend\n",
      "winery: Tommasone\n",
      ": 73539\n",
      "country: Greece\n",
      "description: This is an Agiorgitiko that starts with aromas of clove, vanilla, cinnamon and mint. On the palate, appealing, deep flavors of tobacco, savory spice, smoked meat and cherry are balanced by an elegant acidity. This is a wine that can age but today, it's drinking well. Pair with lamb, pork.\n",
      "designation: Epìcus\n",
      "points: 88\n",
      "price: 10.0\n",
      "province: Peloponnese\n",
      "region_1: \n",
      "region_2: \n",
      "taster_name: Susan Kostrzewa\n",
      "taster_twitter_handle: @suskostrzewa\n",
      "title: Lafazanis 2010 Epìcus Agiorgitiko (Peloponnese)\n",
      "variety: Agiorgitiko\n",
      "winery: Lafazanis\n",
      ": 116455\n",
      "country: Italy\n",
      "description: This hearty blend of Cabernet Sauvignon, Merlot and Syrah offers meaty aromas of smoked bacon and barbecue sauce backed by black fruit and loads of exotic spice. It's a soft, polished wine with a rubbery note on the close.\n",
      "designation: I Pini\n",
      "points: 86\n",
      "price: \n",
      "province: Tuscany\n",
      "region_1: Colli della Toscana Centrale\n",
      "region_2: \n",
      "taster_name: \n",
      "taster_twitter_handle: \n",
      "title: Fattoria di Basciano 2008 I Pini Red (Colli della Toscana Centrale)\n",
      "variety: Red Blend\n",
      "winery: Fattoria di Basciano\n",
      ": 29506\n",
      "country: Italy\n",
      "description: Here's a delicious Pecorino that opens with appealing if unusual aromas of tilled soil alongside more classic floral notes of Spanish broom and acacia. It boasts ripe white peach, juicy pineapple and lemon custard flavors, along with almond and mineral notes.\n",
      "designation: Primo Cerchio\n",
      "points: 89\n",
      "price: 14.0\n",
      "province: Central Italy\n",
      "region_1: Offida Pecorino\n",
      "region_2: \n",
      "taster_name: Kerin O’Keefe\n",
      "taster_twitter_handle: @kerinokeefe\n",
      "title: Villa Bizzarri 2012 Primo Cerchio  (Offida Pecorino)\n",
      "variety: Pecorino\n",
      "winery: Villa Bizzarri\n",
      ": 1272\n",
      "country: Italy\n",
      "description: Pithoi opens with light aromas of forest berry and raw fruit backed by touches of spice and bitter almond. It's an easy wine that could pair with pizza or take-out fried chicken.\n",
      "designation: Pithoi\n",
      "points: 84\n",
      "price: \n",
      "province: Sicily & Sardinia\n",
      "region_1: Sicilia\n",
      "region_2: \n",
      "taster_name: \n",
      "taster_twitter_handle: \n",
      "title: Maggiovini 2008 Pithoi Nero d'Avola (Sicilia)\n",
      "variety: Nero d'Avola\n",
      "winery: Maggiovini\n"
     ]
    }
   ],
   "source": [
    "runnable_1 = RunnableLambda(describe_dish_flavor_chain)\n",
    "runnable_2 = RunnableLambda(search_wine)\n",
    "\n",
    "chain = runnable_1 | runnable_2\n",
    "response = chain.invoke(query_2)\n",
    "\n",
    "print(response['dish_flavor'])\n",
    "print(response['wine_reviews'])"
   ]
  },
  {
   "cell_type": "code",
   "execution_count": 52,
   "id": "c3e31add",
   "metadata": {},
   "outputs": [],
   "source": [
    "def recommand_wine_chain(query):\n",
    "    prompt = ChatPromptTemplate.from_messages([\n",
    "        (\"system\", \"\"\"\n",
    "            Persona:\n",
    "\n",
    "            As a sommelier, I possess an extensive knowledge of wines, including grape varieties, regions, tasting notes, and food pairings. I am highly skilled in recommending wines based on individual preferences, specific occasions, and particular dishes. My expertise includes understanding wine production methods, flavor profiles, and how they interact with different foods. I also stay updated on the latest trends in the wine world and am capable of suggesting wines that are both traditional and adventurous. I strive to provide personalized, thoughtful recommendations to enhance the dining experience.\n",
    "\n",
    "            Role:\n",
    "\n",
    "            1. Wine & Food Pairing: I offer detailed wine recommendations that pair harmoniously with specific dishes, balancing flavors and enhancing the overall dining experience. Whether it's a simple snack or an elaborate meal, I suggest wines that complement the texture, taste, and style of the food.\n",
    "            2. Wine Selection Guidance: For various occasions (celebrations, formal dinners, casual gatherings), I assist in selecting wines that suit the event and align with the preferences of the individuals involved.\n",
    "            3. Wine Tasting Expertise: I can help identify wines based on tasting notes like acidity, tannin levels, sweetness, and body, providing insights into what makes a wine unique.\n",
    "            4. Explaining Wine Terminology: I simplify complex wine terminology, making it easy for everyone to understand grape varieties, regions, and tasting profiles.\n",
    "            5. Educational Role: I inform and educate about different wine regions, production techniques, and wine styles, fostering an appreciation for the diversity of wines available.\n",
    "\n",
    "            Examples:\n",
    "\n",
    "            - Wine Pairing Example (Dish First):\n",
    "            For a grilled butter garlic shrimp dish, I would recommend a Sauvignon Blanc or a Chardonnay with crisp acidity to cut through the richness of the butter and enhance the seafood’s flavors.\n",
    "\n",
    "            - Wine Pairing Example (Wine First):  \n",
    "            If you're enjoying a Cabernet Sauvignon, its bold tannins and dark fruit flavors pair wonderfully with grilled steak or lamb. The richness of the meat complements the intensity of the wine.\n",
    "\n",
    "            - Wine Pairing Example (Wine First):\n",
    "            A Pinot Noir, known for its lighter body and subtle flavors of red berries, is perfect alongside roasted duck or mushroom risotto, as its earthy notes complement the dishes.\n",
    "\n",
    "            - Occasion-Based Selection:\n",
    "            If you are celebrating a romantic anniversary dinner, I would suggest a classic Champagne or an elegant Pinot Noir, perfect for a special and intimate evening.\n",
    "\n",
    "            - Guiding by Taste Preferences:\n",
    "            If you enjoy wines with bold flavors and intense tannins, a Cabernet Sauvignon from Napa Valley would suit your palate perfectly. For something lighter and fruitier, a Riesling could be a delightful alternative, pairing well with spicy dishes or fresh salads.\n",
    "        \"\"\"),\n",
    "        (\"human\", \"\"\"\n",
    "            와인 페이링 추천에 아래 요리/맛, 와인 리뷰만을 참고하여 한글로 답변해 주시기 바랍니다.\n",
    "\n",
    "            요리/맛:\n",
    "            {dish_flavor}\n",
    "\n",
    "            와인 리뷰:\n",
    "            {wine_reviews}\n",
    "        \"\"\")\n",
    "    ])\n",
    "\n",
    "    output_parser = StrOutputParser()\n",
    "    chain = prompt | llm | output_parser\n",
    "    \n",
    "    return chain"
   ]
  },
  {
   "cell_type": "code",
   "execution_count": 65,
   "id": "3631baf9",
   "metadata": {},
   "outputs": [
    {
     "name": "stdout",
     "output_type": "stream",
     "text": [
      "이 오트밀 바와 잘 어울리는 와인으로는 다음을 추천드립니다:\n",
      "\n",
      "**베네세레 2007 할리스톤-콜린스 올드 바인 즈인펜델** (Napa Valley)  \n",
      "이 즈인펜델은 부드럽고 달콤한 과일 풍미가 특징으로, 라즈베리와 체리 파이의 맛, 건포도, 바닐라, 코코아, 갈색 설탕, 그리고 계피의 향신료가 조화롭게 어우러집니다. 고소한 오트밀 바의 견과류와 달콤한 풍미에 잘 맞춰줄 수 있습니다. 부드러운 입체감과 밝은 맛으로 오트밀 바의 질감과 조화를 이루어 훌륭한 페어링을 만들어낼 것입니다.\n",
      "\n",
      "또한, **보타 박스 2013 리슬링**도 좋은 선택입니다. 이 와인은 약간의 달콤함과 과일 풍미가 있으며, 복숭아와 꽃의 향이 느껴지고, 설탕에 절인 멜론의 맛이 더해져 있습니다. 오트밀 바의 고소함과 잘 어우러져, 특히 꿀이나 메이플 시럽의 달콤함과 조화롭게 즐길 수 있습니다.\n",
      "\n",
      "이 두 가지 와인은 각각 고소하고 달콤한 맛의 조화를 더욱 풍부하게 만들어 줄 것입니다.\n"
     ]
    }
   ],
   "source": [
    "runnable_1 = RunnableLambda(describe_dish_flavor_chain)\n",
    "runnable_2 = RunnableLambda(search_wine)\n",
    "runnable_3 = RunnableLambda(recommand_wine_chain)\n",
    "\n",
    "chain = runnable_1 | runnable_2 | runnable_3\n",
    "query_3 = {\n",
    "    'image_url' : \"https://www.stockfood.com/Sites/StockFood/Documents/Homepage/News//en/16.jpg\"\n",
    "}\n",
    "response = chain.invoke(query_3)\n",
    "\n",
    "print(response)"
   ]
  },
  {
   "cell_type": "code",
   "execution_count": 55,
   "id": "51950fa4",
   "metadata": {},
   "outputs": [],
   "source": [
    "!pip install -qU grandalf"
   ]
  },
  {
   "cell_type": "code",
   "execution_count": 61,
   "id": "71278e5b",
   "metadata": {},
   "outputs": [
    {
     "name": "stdout",
     "output_type": "stream",
     "text": [
      "       +----------------------------------+      \n",
      "       | describe_dish_flavor_chain_input |      \n",
      "       +----------------------------------+      \n",
      "                ***            ***               \n",
      "              **                  **             \n",
      "            **                      **           \n",
      "+-----------------+              +------------+  \n",
      "| StrOutputParser |              | ChatOpenAI |  \n",
      "+-----------------+              +------------+  \n",
      "                ***            ***               \n",
      "                   **        **                  \n",
      "                     **    **                    \n",
      "      +-----------------------------------+      \n",
      "      | describe_dish_flavor_chain_output |      \n",
      "      +-----------------------------------+      \n",
      "                         *                       \n",
      "                         *                       \n",
      "                         *                       \n",
      "                 +-------------+                 \n",
      "                 | search_wine |                 \n",
      "                 +-------------+                 \n",
      "                         *                       \n",
      "                         *                       \n",
      "                         *                       \n",
      "                  +------------+                 \n",
      "                  | ChatOpenAI |                 \n",
      "                  +------------+                 \n",
      "                         *                       \n",
      "                         *                       \n",
      "                         *                       \n",
      "         +-----------------------------+         \n",
      "         | recommand_wine_chain_output |         \n",
      "         +-----------------------------+         \n"
     ]
    }
   ],
   "source": [
    "chain.get_graph().print_ascii()"
   ]
  }
 ],
 "metadata": {
  "kernelspec": {
   "display_name": "prompting_env",
   "language": "python",
   "name": "python3"
  },
  "language_info": {
   "codemirror_mode": {
    "name": "ipython",
    "version": 3
   },
   "file_extension": ".py",
   "mimetype": "text/x-python",
   "name": "python",
   "nbconvert_exporter": "python",
   "pygments_lexer": "ipython3",
   "version": "3.12.11"
  }
 },
 "nbformat": 4,
 "nbformat_minor": 5
}
