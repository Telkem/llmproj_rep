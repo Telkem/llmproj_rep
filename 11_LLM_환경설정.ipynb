{
 "cells": [
  {
   "cell_type": "markdown",
   "id": "f1e7b503",
   "metadata": {},
   "source": [
    "# openai\n",
    "# upstage\n",
    "# ollama"
   ]
  },
  {
   "cell_type": "code",
   "execution_count": 1,
   "id": "ad36ffaa",
   "metadata": {},
   "outputs": [
    {
     "name": "stdout",
     "output_type": "stream",
     "text": [
      "content=\"Hello! I'm just a large language model, so I don't have feelings, but I'm here and ready to help you. How can I assist you today? Is there something you'd like to talk about or ask? 😊\" additional_kwargs={'refusal': None} response_metadata={'token_usage': {'completion_tokens': 49, 'prompt_tokens': 20, 'total_tokens': 69, 'completion_tokens_details': {'accepted_prediction_tokens': 0, 'audio_tokens': 0, 'reasoning_tokens': 0, 'rejected_prediction_tokens': 0}, 'prompt_tokens_details': {'audio_tokens': 0, 'cached_tokens': 0}}, 'model_name': 'solar-pro2-250710', 'system_fingerprint': None, 'id': 'dc48d66f-66b7-430d-a965-6f22d0e1638a', 'service_tier': None, 'finish_reason': 'stop', 'logprobs': None} id='run--1310bb91-d655-4d9f-80cc-cfb5a9037f9e-0' usage_metadata={'input_tokens': 20, 'output_tokens': 49, 'total_tokens': 69, 'input_token_details': {'audio': 0, 'cache_read': 0}, 'output_token_details': {'audio': 0, 'reasoning': 0}}\n"
     ]
    }
   ],
   "source": [
    "# pip install -qU langchain-core langchain-upstage\n",
    " \n",
    "from langchain_upstage import ChatUpstage\n",
    "from langchain_core.messages import HumanMessage\n",
    "from dotenv import load_dotenv\n",
    "import os\n",
    "\n",
    "load_dotenv()\n",
    " \n",
    "chat = ChatUpstage(api_key=os.getenv(\"UPSTAGE_API_KEY\"), model=\"solar-pro2\")\n",
    " \n",
    "messages = [\n",
    "    HumanMessage(\n",
    "        content=\"Hi, how are you?\"\n",
    "    )\n",
    "]\n",
    " \n",
    "response = chat.invoke(messages)\n",
    "print(response)"
   ]
  },
  {
   "cell_type": "code",
   "execution_count": 1,
   "id": "d3aae707",
   "metadata": {},
   "outputs": [
    {
     "name": "stderr",
     "output_type": "stream",
     "text": [
      "C:\\Users\\Admin\\AppData\\Local\\Temp\\ipykernel_10424\\3626889501.py:2: LangChainDeprecationWarning: The class `ChatOllama` was deprecated in LangChain 0.3.1 and will be removed in 1.0.0. An updated version of the class exists in the :class:`~langchain-ollama package and should be used instead. To use it run `pip install -U :class:`~langchain-ollama` and import as `from :class:`~langchain_ollama import ChatOllama``.\n",
      "  llm_ollama = ChatOllama(model='gemma2')\n"
     ]
    },
    {
     "data": {
      "text/plain": [
       "'안녕하세요! 저는 구글에서 훈련된 대형 언어 모델입니다.\\n\\n텍스트를 이해하고 생성하는 데 능숙하며, 다양한 질문에 답변하고 창의적인 콘텐츠를 만드는 데 도움을 줄 수 있습니다.'"
      ]
     },
     "execution_count": 1,
     "metadata": {},
     "output_type": "execute_result"
    }
   ],
   "source": [
    "from langchain_community.chat_models import ChatOllama\n",
    "llm_ollama = ChatOllama(model='gemma2')\n",
    "response = llm_ollama.invoke('안녕? 네 소개를 2줄로 작성해.')\n",
    "response.content"
   ]
  }
 ],
 "metadata": {
  "kernelspec": {
   "display_name": "prompting_env",
   "language": "python",
   "name": "python3"
  },
  "language_info": {
   "codemirror_mode": {
    "name": "ipython",
    "version": 3
   },
   "file_extension": ".py",
   "mimetype": "text/x-python",
   "name": "python",
   "nbconvert_exporter": "python",
   "pygments_lexer": "ipython3",
   "version": "3.12.11"
  }
 },
 "nbformat": 4,
 "nbformat_minor": 5
}
