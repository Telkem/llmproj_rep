{
 "cells": [
  {
   "cell_type": "markdown",
   "id": "e194d84b",
   "metadata": {},
   "source": [
    "LCEL LangChainExpressionLanguage<br>\n",
    "프롬프트 > LLM input > chain input > output > prompt\n",
    "\n",
    "Runnable 인터페이스 > 랭체인 구현하고 있다."
   ]
  },
  {
   "cell_type": "markdown",
   "id": "b482078c",
   "metadata": {},
   "source": [
    "# SequentialChain"
   ]
  },
  {
   "cell_type": "code",
   "execution_count": 1,
   "id": "0abd26eb",
   "metadata": {},
   "outputs": [],
   "source": [
    "from langchain_openai import ChatOpenAI\n",
    "llm = ChatOpenAI(model='gpt-4o-mini')"
   ]
  },
  {
   "cell_type": "code",
   "execution_count": 2,
   "id": "e3f06d8e",
   "metadata": {},
   "outputs": [
    {
     "name": "stderr",
     "output_type": "stream",
     "text": [
      "C:\\Users\\Admin\\AppData\\Local\\Temp\\ipykernel_12524\\4292715150.py:5: LangChainDeprecationWarning: The class `LLMChain` was deprecated in LangChain 0.1.17 and will be removed in 1.0. Use :meth:`~RunnableSequence, e.g., `prompt | llm`` instead.\n",
      "  chain = LLMChain(llm=llm, prompt=template)\n"
     ]
    },
    {
     "data": {
      "text/plain": [
       "LLMChain(verbose=False, prompt=PromptTemplate(input_variables=['city'], input_types={}, partial_variables={}, template='{city}의 랜드마크는 어디인가요?'), llm=ChatOpenAI(client=<openai.resources.chat.completions.completions.Completions object at 0x00000245EBF8EC00>, async_client=<openai.resources.chat.completions.completions.AsyncCompletions object at 0x00000245EC0A75C0>, root_client=<openai.OpenAI object at 0x00000245EAAC6F00>, root_async_client=<openai.AsyncOpenAI object at 0x00000245EC06D580>, model_name='gpt-4o-mini', model_kwargs={}, openai_api_key=SecretStr('**********')), output_parser=StrOutputParser(), llm_kwargs={})"
      ]
     },
     "execution_count": 2,
     "metadata": {},
     "output_type": "execute_result"
    }
   ],
   "source": [
    "from langchain_core.prompts import PromptTemplate\n",
    "from langchain.chains import LLMChain\n",
    "\n",
    "template = PromptTemplate.from_template(\"{city}의 랜드마크는 어디인가요?\")\n",
    "chain = LLMChain(llm=llm, prompt=template)\n",
    "chain"
   ]
  },
  {
   "cell_type": "code",
   "execution_count": 3,
   "id": "4b3eebe6",
   "metadata": {},
   "outputs": [
    {
     "data": {
      "text/plain": [
       "{'city': '파리',\n",
       " 'text': '파리에는 많은 유명한 랜드마크가 있습니다. 그 중 몇 가지를 소개해 드리겠습니다.\\n\\n1. **에펠탑 (Eiffel Tower)** - 파리의 상징적인 구조물로, 1889년에 완공되었습니다. 전망대에서 파리 전경을 즐길 수 있습니다.\\n\\n2. **루브르 박물관 (Louvre Museum)** - 세계에서 가장 유명한 미술관 중 하나로, 모나리자와 비너스 드 밀로 같은 명작들이 전시되어 있습니다.\\n\\n3. **노트르담 대성당 (Notre-Dame Cathedral)** - 중세 고딕 양식의 대성당으로, 파리의 중심부에 위치하고 있습니다. 현재 복원 작업이 진행 중입니다.\\n\\n4. **샹젤리제 거리 (Champs-Élysées)** - 세계에서 가장 아름다운 거리 중 하나로, 고급 상점과 카페들이 늘어선 곳입니다.\\n\\n5. **아크 드 트리옹프 (Arc de Triomphe)** - 프랑스 혁명과 나폴레옹 전쟁의 영광을 기리기 위해 세운 기념비로, 샹젤리제 거리의 끝에 위치합니다.\\n\\n6. **몽마르뜨 언덕 (Montmartre)** - 예술가들의 거리로 유명하며, 사크레쾨르 대성당이 이곳에 위치해 있습니다.\\n\\n이 외에도 파리에는 아름다운 공원, 역사적인 건축물, 다리 등이 많이 있어 관광객들에게 매력적인 도시입니다.'}"
      ]
     },
     "execution_count": 3,
     "metadata": {},
     "output_type": "execute_result"
    }
   ],
   "source": [
    "chain.invoke({'city':'파리'})"
   ]
  },
  {
   "cell_type": "code",
   "execution_count": 7,
   "id": "21277d16",
   "metadata": {},
   "outputs": [
    {
     "data": {
      "text/plain": [
       "SequentialChain(verbose=False, chains=[LLMChain(verbose=True, prompt=PromptTemplate(input_variables=['city'], input_types={}, partial_variables={}, template='{city}의 랜드마크를 1개만 알려주세요. 설명 없이 이름만 1개 출력하세요.'), llm=ChatOpenAI(client=<openai.resources.chat.completions.completions.Completions object at 0x00000245EBF8EC00>, async_client=<openai.resources.chat.completions.completions.AsyncCompletions object at 0x00000245EC0A75C0>, root_client=<openai.OpenAI object at 0x00000245EAAC6F00>, root_async_client=<openai.AsyncOpenAI object at 0x00000245EC06D580>, model_name='gpt-4o-mini', model_kwargs={}, openai_api_key=SecretStr('**********')), output_key='landmark', output_parser=StrOutputParser(), llm_kwargs={}), LLMChain(verbose=False, prompt=PromptTemplate(input_variables=['landmark', 'transport'], input_types={}, partial_variables={}, template='{landmark}에 {transport}로 가는 방법이 무엇인가요'), llm=ChatOpenAI(client=<openai.resources.chat.completions.completions.Completions object at 0x00000245EBF8EC00>, async_client=<openai.resources.chat.completions.completions.AsyncCompletions object at 0x00000245EC0A75C0>, root_client=<openai.OpenAI object at 0x00000245EAAC6F00>, root_async_client=<openai.AsyncOpenAI object at 0x00000245EC06D580>, model_name='gpt-4o-mini', model_kwargs={}, openai_api_key=SecretStr('**********')), output_parser=StrOutputParser(), llm_kwargs={})], input_variables=['city', 'transport'], output_variables=['text'])"
      ]
     },
     "execution_count": 7,
     "metadata": {},
     "output_type": "execute_result"
    }
   ],
   "source": [
    "from langchain.chains import SequentialChain\n",
    "\n",
    "prompt1 = PromptTemplate.from_template('{city}의 랜드마크를 1개만 알려주세요. 설명 없이 이름만 1개 출력하세요.')\n",
    "prompt2 = PromptTemplate.from_template('{landmark}에 {transport}로 가는 방법이 무엇인가요')\n",
    "\n",
    "chain1 = LLMChain(llm=llm, prompt=prompt1, output_key='landmark', verbose=True)\n",
    "chain2 = LLMChain(llm=llm, prompt=prompt2)\n",
    "seq_chain = SequentialChain(chains=[chain1, chain2], input_variables=['city','transport'])\n",
    "seq_chain"
   ]
  },
  {
   "cell_type": "code",
   "execution_count": 8,
   "id": "ab759c65",
   "metadata": {},
   "outputs": [
    {
     "name": "stdout",
     "output_type": "stream",
     "text": [
      "\n",
      "\n",
      "\u001b[1m> Entering new LLMChain chain...\u001b[0m\n",
      "Prompt after formatting:\n",
      "\u001b[32;1m\u001b[1;3mSeoul의 랜드마크를 1개만 알려주세요. 설명 없이 이름만 1개 출력하세요.\u001b[0m\n",
      "\n",
      "\u001b[1m> Finished chain.\u001b[0m\n"
     ]
    },
    {
     "data": {
      "text/plain": [
       "{'city': 'Seoul',\n",
       " 'transport': '지하철',\n",
       " 'text': '남산서울타워에 지하철로 가려면 다음과 같은 방법을 따르면 됩니다:\\n\\n1. **지하철 4호선 이용**: 지하철 4호선을 타고 **명동역**에서 하차합니다. 6번 출구로 나옵니다.\\n\\n2. **남산 케이블카 또는 버스 이용**: \\n   - **케이블카**: 명동역에서 케이블카 정거장까지 도보로 이동 후, 남산 케이블카를 타고 서울타워로 올라갑니다.\\n   - **버스**: 명동역에서 나와 남산 순환버스(예: Namsan Sunhwan Bus, 05번)나 02번 일반 버스를 이용해 서울타워 근처까지 이동할 수 있습니다.\\n\\n3. **도보**: 케이블카나 버스를 이용하지 않고 도보로 남산타워까지 올라갈 수도 있습니다. 하지만 거리는 약간 멀기 때문에 체력이 필요한 편입니다.\\n\\n이 방법들을 통해 남산서울타워에 쉽게 접근할 수 있습니다! 즐거운 여행 되세요!'}"
      ]
     },
     "execution_count": 8,
     "metadata": {},
     "output_type": "execute_result"
    }
   ],
   "source": [
    "seq_chain.invoke({'city':'Seoul', 'transport':'지하철'})"
   ]
  },
  {
   "cell_type": "markdown",
   "id": "88fd1cf5",
   "metadata": {},
   "source": [
    "# LCEL 파이프라인 구성"
   ]
  },
  {
   "cell_type": "code",
   "execution_count": 4,
   "id": "981b1dd2",
   "metadata": {},
   "outputs": [
    {
     "data": {
      "text/plain": [
       "PromptTemplate(input_variables=['city'], input_types={}, partial_variables={}, template='{city}의 랜드마크는 어디인가요?')\n",
       "| ChatOpenAI(client=<openai.resources.chat.completions.completions.Completions object at 0x00000245EBF8EC00>, async_client=<openai.resources.chat.completions.completions.AsyncCompletions object at 0x00000245EC0A75C0>, root_client=<openai.OpenAI object at 0x00000245EAAC6F00>, root_async_client=<openai.AsyncOpenAI object at 0x00000245EC06D580>, model_name='gpt-4o-mini', model_kwargs={}, openai_api_key=SecretStr('**********'))"
      ]
     },
     "execution_count": 4,
     "metadata": {},
     "output_type": "execute_result"
    }
   ],
   "source": [
    "chain_lcel = template | llm\n",
    "\n",
    "chain_lcel"
   ]
  },
  {
   "cell_type": "code",
   "execution_count": 5,
   "id": "eedf992e",
   "metadata": {},
   "outputs": [
    {
     "data": {
      "text/plain": [
       "AIMessage(content=\"런던에는 유명한 여러 랜드마크가 있습니다. 그 중 일부는 다음과 같습니다:\\n\\n1. **버킹엄 궁전(Buckingham Palace)** - 영국 왕실의 공식 거처로, 근위병 교대식으로 유명합니다.\\n2. **타워브릿지(Tower Bridge)** - 런던의 대표적인 다리로, 멋진 경관을 제공합니다.\\n3. **빅벤(Big Ben)** - 국회의사당의 시계탑으로, 런던의 상징적인 건축물입니다.\\n4. **런던 아이(London Eye)** - 큰 관람차로, 런던 시내의 전경을 감상할 수 있습니다.\\n5. **대영 박물관(British Museum)** - 세계적인 문화재를 소장하고 있는 박물관입니다.\\n6. **타워 오브 런던(Tower of London)** - 역사적인 성으로, 영국 왕실의 보물과 역사적 유물이 있습니다.\\n7. **세인트 폴 대성당(St. Paul's Cathedral)** - 아름다운 돔 형태의 성당으로, 런던의 랜드마크 중 하나입니다.\\n\\n이 외에도 많은 관광 명소가 있으며, 런던은 역사와 현대가 어우러진 다양한 매력을 지니고 있습니다.\", additional_kwargs={'refusal': None}, response_metadata={'token_usage': {'completion_tokens': 283, 'prompt_tokens': 19, 'total_tokens': 302, 'completion_tokens_details': {'accepted_prediction_tokens': 0, 'audio_tokens': 0, 'reasoning_tokens': 0, 'rejected_prediction_tokens': 0}, 'prompt_tokens_details': {'audio_tokens': 0, 'cached_tokens': 0}}, 'model_name': 'gpt-4o-mini-2024-07-18', 'system_fingerprint': 'fp_e665f7564b', 'id': 'chatcmpl-CDMyn15FcRHI9QCrDyE33PD7DYEey', 'service_tier': 'default', 'finish_reason': 'stop', 'logprobs': None}, id='run--5c31dc62-c8dd-4471-ad2c-c17470165619-0', usage_metadata={'input_tokens': 19, 'output_tokens': 283, 'total_tokens': 302, 'input_token_details': {'audio': 0, 'cache_read': 0}, 'output_token_details': {'audio': 0, 'reasoning': 0}})"
      ]
     },
     "execution_count": 5,
     "metadata": {},
     "output_type": "execute_result"
    }
   ],
   "source": [
    "chain_lcel.invoke({'city':'런던'})"
   ]
  }
 ],
 "metadata": {
  "kernelspec": {
   "display_name": "prompting_env",
   "language": "python",
   "name": "python3"
  },
  "language_info": {
   "codemirror_mode": {
    "name": "ipython",
    "version": 3
   },
   "file_extension": ".py",
   "mimetype": "text/x-python",
   "name": "python",
   "nbconvert_exporter": "python",
   "pygments_lexer": "ipython3",
   "version": "3.12.11"
  }
 },
 "nbformat": 4,
 "nbformat_minor": 5
}
